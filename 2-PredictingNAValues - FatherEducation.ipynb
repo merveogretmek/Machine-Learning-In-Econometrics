{
 "cells": [
  {
   "cell_type": "code",
   "execution_count": 2,
   "id": "f5ac7744",
   "metadata": {},
   "outputs": [],
   "source": [
    "# Libraries\n",
    "import pandas as pd\n",
    "import numpy as np"
   ]
  },
  {
   "cell_type": "markdown",
   "id": "e7d4979c",
   "metadata": {},
   "source": [
    "# Data"
   ]
  },
  {
   "cell_type": "code",
   "execution_count": 3,
   "id": "cc8f2f3e",
   "metadata": {},
   "outputs": [],
   "source": [
    "# Read the data\n",
    "df = pd.read_csv('genderinequality.csv')"
   ]
  },
  {
   "cell_type": "code",
   "execution_count": 4,
   "id": "82546c49",
   "metadata": {},
   "outputs": [
    {
     "name": "stdout",
     "output_type": "stream",
     "text": [
      "year         0\n",
      "id           0\n",
      "wage         0\n",
      "hours        0\n",
      "emp          0\n",
      "treat        0\n",
      "female       0\n",
      "IQ           0\n",
      "KWW          0\n",
      "educ         0\n",
      "exper        0\n",
      "tenure       0\n",
      "age          0\n",
      "married      0\n",
      "black        0\n",
      "south        0\n",
      "urban        0\n",
      "sibs         0\n",
      "brthord    188\n",
      "meduc      174\n",
      "feduc      448\n",
      "dtype: int64\n"
     ]
    }
   ],
   "source": [
    "# Number of missing values by column\n",
    "print(df.isnull().sum())"
   ]
  },
  {
   "cell_type": "markdown",
   "id": "fe0d767a",
   "metadata": {},
   "source": [
    "# Models"
   ]
  },
  {
   "cell_type": "code",
   "execution_count": 5,
   "id": "6402fe8e",
   "metadata": {},
   "outputs": [],
   "source": [
    "# Drop the rows that are missing 'feduc'\n",
    "new_df = df.dropna(subset=['feduc'])"
   ]
  },
  {
   "cell_type": "markdown",
   "id": "ba37526a",
   "metadata": {},
   "source": [
    "## OLS"
   ]
  },
  {
   "cell_type": "markdown",
   "id": "beef7ebc",
   "metadata": {},
   "source": [
    "### Moderate Dimension"
   ]
  },
  {
   "cell_type": "code",
   "execution_count": 6,
   "id": "e754a8f9",
   "metadata": {},
   "outputs": [
    {
     "name": "stdout",
     "output_type": "stream",
     "text": [
      "In-sample R2: 0.24832026286300302\n",
      "In-sample MSE: 8.328183758297584\n",
      "Out-of-sample R2: 0.20480753557417075\n",
      "Out-of-sample MSE: 7.92228565240242\n"
     ]
    }
   ],
   "source": [
    "import pandas as pd\n",
    "from sklearn.model_selection import train_test_split\n",
    "from sklearn.linear_model import LinearRegression\n",
    "from sklearn.metrics import r2_score, mean_squared_error\n",
    "\n",
    "# Seperate independent and dependent variables\n",
    "x_feduc = new_df[[\"educ\", \"IQ\", \"age\", \"married\", \"female\", \"black\", \"south\", \"urban\", \"sibs\"]]\n",
    "y_feduc = new_df[['feduc']]\n",
    "\n",
    "# Split the data into training and testing sets\n",
    "x_train, x_test, y_train, y_test = train_test_split(x_feduc, y_feduc, test_size=0.2, random_state=42)\n",
    "\n",
    "# Create a Linear Regression model\n",
    "model = LinearRegression()\n",
    "\n",
    "# Fit the model using the training data\n",
    "model.fit(x_train, y_train)\n",
    "\n",
    "# Predict the target variable for the training and testing data\n",
    "y_train_pred = model.predict(x_train)\n",
    "y_test_pred = model.predict(x_test)\n",
    "\n",
    "# Calculate in-sample R2 and MSE\n",
    "in_sample_r2 = r2_score(y_train, y_train_pred)\n",
    "in_sample_mse = mean_squared_error(y_train, y_train_pred)\n",
    "\n",
    "# Calculate out-of-sample R2 and MSE\n",
    "out_of_sample_r2 = r2_score(y_test, y_test_pred)\n",
    "out_of_sample_mse = mean_squared_error(y_test, y_test_pred)\n",
    "\n",
    "print(\"In-sample R2:\", in_sample_r2)\n",
    "print(\"In-sample MSE:\", in_sample_mse)\n",
    "print(\"Out-of-sample R2:\", out_of_sample_r2)\n",
    "print(\"Out-of-sample MSE:\", out_of_sample_mse)"
   ]
  },
  {
   "cell_type": "markdown",
   "id": "a8ad56c3",
   "metadata": {},
   "source": [
    "### High Dimension (up to degree 3)"
   ]
  },
  {
   "cell_type": "code",
   "execution_count": 7,
   "id": "c7aac1a5",
   "metadata": {},
   "outputs": [
    {
     "name": "stdout",
     "output_type": "stream",
     "text": [
      "In-sample R2 with polynomial features: 0.4054592026222108\n",
      "In-sample MSE with polynomial features: 6.587173722716136\n",
      "Out-of-sample R2 with polynomial features: 0.1853932869874103\n",
      "Out-of-sample MSE with polynomial features: 8.115704516277246\n"
     ]
    }
   ],
   "source": [
    "import pandas as pd\n",
    "from sklearn.model_selection import train_test_split\n",
    "from sklearn.linear_model import LinearRegression\n",
    "from sklearn.preprocessing import PolynomialFeatures\n",
    "from sklearn.metrics import r2_score, mean_squared_error\n",
    "\n",
    "# Seperating independent and dependent variables\n",
    "x_feduc = new_df[[\"educ\", \"IQ\", \"age\", \"married\", \"female\", \"black\", \"south\", \"urban\", \"sibs\"]]\n",
    "y_feduc = new_df[['feduc']]\n",
    "\n",
    "# Split the data into training and testing sets\n",
    "x_train, x_test, y_train, y_test = train_test_split(x_feduc, y_feduc, test_size=0.2, random_state=42)\n",
    "\n",
    "# Create polynomial features including all possible interactions up to degree 3\n",
    "poly_features = PolynomialFeatures(degree=3, include_bias=False)\n",
    "x_train_poly = poly_features.fit_transform(x_train)\n",
    "x_test_poly = poly_features.transform(x_test)\n",
    "\n",
    "# Create a Linear Regression model\n",
    "model = LinearRegression()\n",
    "\n",
    "# Fit the model using the training data with polynomial features\n",
    "model.fit(x_train_poly, y_train)\n",
    "\n",
    "# Predict the target variable for the training and testing data with polynomial features\n",
    "y_train_pred = model.predict(x_train_poly)\n",
    "y_test_pred = model.predict(x_test_poly)\n",
    "\n",
    "# Calculate in-sample R2 and MSE with polynomial features\n",
    "in_sample_r2 = r2_score(y_train, y_train_pred)\n",
    "in_sample_mse = mean_squared_error(y_train, y_train_pred)\n",
    "\n",
    "# Calculate out-of-sample R2 and MSE with polynomial features\n",
    "out_of_sample_r2 = r2_score(y_test, y_test_pred)\n",
    "out_of_sample_mse = mean_squared_error(y_test, y_test_pred)\n",
    "\n",
    "print(\"In-sample R2 with polynomial features:\", in_sample_r2)\n",
    "print(\"In-sample MSE with polynomial features:\", in_sample_mse)\n",
    "print(\"Out-of-sample R2 with polynomial features:\", out_of_sample_r2)\n",
    "print(\"Out-of-sample MSE with polynomial features:\", out_of_sample_mse)"
   ]
  },
  {
   "cell_type": "markdown",
   "id": "5cec7826",
   "metadata": {},
   "source": [
    "## LASSO (alpha=1)"
   ]
  },
  {
   "cell_type": "markdown",
   "id": "1a32dafc",
   "metadata": {},
   "source": [
    "### Moderate Dimension"
   ]
  },
  {
   "cell_type": "code",
   "execution_count": 8,
   "id": "6ec5d9f8",
   "metadata": {},
   "outputs": [
    {
     "name": "stdout",
     "output_type": "stream",
     "text": [
      "In-sample R2: 0.2322334469973738\n",
      "In-sample MSE: 8.506416524189529\n",
      "Out-of-sample R2: 0.1894121198171702\n",
      "Out-of-sample MSE: 8.075665980839664\n"
     ]
    }
   ],
   "source": [
    "import pandas as pd\n",
    "from sklearn.model_selection import train_test_split\n",
    "from sklearn.linear_model import Lasso\n",
    "from sklearn.metrics import r2_score, mean_squared_error\n",
    "\n",
    "# Seperate independent and dependent variables\n",
    "x_feduc = new_df[[\"educ\", \"IQ\", \"age\", \"married\", \"female\", \"black\", \"south\", \"urban\", \"sibs\"]]\n",
    "y_feduc = new_df[['feduc']]\n",
    "\n",
    "# Split the data into training and testing sets\n",
    "x_train, x_test, y_train, y_test = train_test_split(x_feduc, y_feduc, test_size=0.2, random_state=42)\n",
    "\n",
    "# Create a LASSO model\n",
    "model = Lasso(alpha = 0.1)\n",
    "\n",
    "# Fit the model using the training data\n",
    "model.fit(x_train, y_train)\n",
    "\n",
    "# Predict the target variable for the training and testing data\n",
    "y_train_pred = model.predict(x_train)\n",
    "y_test_pred = model.predict(x_test)\n",
    "\n",
    "# Calculate in-sample R2 and MSE\n",
    "in_sample_r2 = r2_score(y_train, y_train_pred)\n",
    "in_sample_mse = mean_squared_error(y_train, y_train_pred)\n",
    "\n",
    "# Calculate out-of-sample R2 and MSE\n",
    "out_of_sample_r2 = r2_score(y_test, y_test_pred)\n",
    "out_of_sample_mse = mean_squared_error(y_test, y_test_pred)\n",
    "\n",
    "print(\"In-sample R2:\", in_sample_r2)\n",
    "print(\"In-sample MSE:\", in_sample_mse)\n",
    "print(\"Out-of-sample R2:\", out_of_sample_r2)\n",
    "print(\"Out-of-sample MSE:\", out_of_sample_mse)"
   ]
  },
  {
   "cell_type": "markdown",
   "id": "06bb228e",
   "metadata": {},
   "source": [
    "### High Dimension (up to degree 3)"
   ]
  },
  {
   "cell_type": "code",
   "execution_count": 9,
   "id": "a9a0b7a6",
   "metadata": {},
   "outputs": [
    {
     "name": "stdout",
     "output_type": "stream",
     "text": [
      "In-sample R2 with polynomial features: 0.3343004818522648\n",
      "In-sample MSE with polynomial features: 7.37557185731889\n",
      "Out-of-sample R2 with polynomial features: 0.1852761636576884\n",
      "Out-of-sample MSE with polynomial features: 8.116871384068538\n"
     ]
    },
    {
     "name": "stderr",
     "output_type": "stream",
     "text": [
      "/Users/merveogretmek/anaconda3/lib/python3.10/site-packages/sklearn/linear_model/_coordinate_descent.py:631: ConvergenceWarning: Objective did not converge. You might want to increase the number of iterations, check the scale of the features or consider increasing regularisation. Duality gap: 4.842e+03, tolerance: 1.458e+00\n",
      "  model = cd_fast.enet_coordinate_descent(\n"
     ]
    }
   ],
   "source": [
    "import pandas as pd\n",
    "from sklearn.model_selection import train_test_split\n",
    "from sklearn.linear_model import Lasso\n",
    "from sklearn.preprocessing import PolynomialFeatures\n",
    "from sklearn.metrics import r2_score, mean_squared_error\n",
    "\n",
    "# Seperate independent and dependent variables\n",
    "x_feduc = new_df[[\"educ\", \"IQ\", \"age\", \"married\", \"female\", \"black\", \"south\", \"urban\", \"sibs\"]]\n",
    "y_feduc = new_df[['feduc']]\n",
    "\n",
    "# Split the data into training and testing sets\n",
    "x_train, x_test, y_train, y_test = train_test_split(x_feduc, y_feduc, test_size=0.2, random_state=42)\n",
    "\n",
    "# Create polynomial features including all possible interactions up to degree 3\n",
    "poly_features = PolynomialFeatures(degree=3, include_bias=False)\n",
    "x_train_poly = poly_features.fit_transform(x_train)\n",
    "x_test_poly = poly_features.transform(x_test)\n",
    "\n",
    "# Create a LASSO model\n",
    "model = Lasso(alpha=0.1, max_iter=100000)\n",
    "\n",
    "# Fit the model using the training data with polynomial features\n",
    "model.fit(x_train_poly, y_train)\n",
    "\n",
    "# Predict the target variable for the training and testing data with polynomial features\n",
    "y_train_pred = model.predict(x_train_poly)\n",
    "y_test_pred = model.predict(x_test_poly)\n",
    "\n",
    "# Calculate in-sample R2 and MSE with polynomial features\n",
    "in_sample_r2 = r2_score(y_train, y_train_pred)\n",
    "in_sample_mse = mean_squared_error(y_train, y_train_pred)\n",
    "\n",
    "# Calculate out-of-sample R2 and MSE with polynomial features\n",
    "out_of_sample_r2 = r2_score(y_test, y_test_pred)\n",
    "out_of_sample_mse = mean_squared_error(y_test, y_test_pred)\n",
    "\n",
    "print(\"In-sample R2 with polynomial features:\", in_sample_r2)\n",
    "print(\"In-sample MSE with polynomial features:\", in_sample_mse)\n",
    "print(\"Out-of-sample R2 with polynomial features:\", out_of_sample_r2)\n",
    "print(\"Out-of-sample MSE with polynomial features:\", out_of_sample_mse)"
   ]
  },
  {
   "cell_type": "markdown",
   "id": "6e5827af",
   "metadata": {},
   "source": [
    "## LASSO (Scaled)"
   ]
  },
  {
   "cell_type": "markdown",
   "id": "d82b1fda",
   "metadata": {},
   "source": [
    "### Moderate Dimension"
   ]
  },
  {
   "cell_type": "code",
   "execution_count": 10,
   "id": "f210df93",
   "metadata": {},
   "outputs": [
    {
     "name": "stdout",
     "output_type": "stream",
     "text": [
      "In-sample R2 (LASSO with scaled features): 0.2424204128734081\n",
      "In-sample MSE (LASSO with scaled features): 8.39355073898391\n",
      "Out-of-sample R2 (LASSO with scaled features): 0.2093172139602396\n",
      "Out-of-sample MSE (LASSO with scaled features): 7.877356956554304\n"
     ]
    }
   ],
   "source": [
    "import pandas as pd\n",
    "from sklearn.model_selection import train_test_split\n",
    "from sklearn.preprocessing import StandardScaler\n",
    "from sklearn.linear_model import Lasso\n",
    "from sklearn.metrics import r2_score, mean_squared_error\n",
    "\n",
    "# Seperate independent and dependent variables\n",
    "x_feduc = new_df[[\"educ\", \"IQ\", \"age\", \"married\", \"female\", \"black\", \"south\", \"urban\", \"sibs\"]]\n",
    "y_feduc = new_df[['feduc']]\n",
    "\n",
    "# Split the data into training and testing sets\n",
    "x_train, x_test, y_train, y_test = train_test_split(x_feduc, y_feduc, test_size=0.2, random_state=42)\n",
    "\n",
    "# Create a StandardScaler object and fit it to the training data\n",
    "scaler = StandardScaler()\n",
    "x_train_scaled = scaler.fit_transform(x_train)\n",
    "x_test_scaled = scaler.transform(x_test)\n",
    "\n",
    "# Create a LASSO Regression model\n",
    "model = Lasso(alpha=0.1)  # Adjust the alpha value for regularization strength\n",
    "\n",
    "# Fit the model using the scaled training data\n",
    "model.fit(x_train_scaled, y_train)\n",
    "\n",
    "# Predict the target variable for the training and testing data\n",
    "y_train_pred = model.predict(x_train_scaled)\n",
    "y_test_pred = model.predict(x_test_scaled)\n",
    "\n",
    "# Calculate in-sample R2 and MSE\n",
    "in_sample_r2 = r2_score(y_train, y_train_pred)\n",
    "in_sample_mse = mean_squared_error(y_train, y_train_pred)\n",
    "\n",
    "# Calculate out-of-sample R2 and MSE\n",
    "out_of_sample_r2 = r2_score(y_test, y_test_pred)\n",
    "out_of_sample_mse = mean_squared_error(y_test, y_test_pred)\n",
    "\n",
    "print(\"In-sample R2 (LASSO with scaled features):\", in_sample_r2)\n",
    "print(\"In-sample MSE (LASSO with scaled features):\", in_sample_mse)\n",
    "print(\"Out-of-sample R2 (LASSO with scaled features):\", out_of_sample_r2)\n",
    "print(\"Out-of-sample MSE (LASSO with scaled features):\", out_of_sample_mse)"
   ]
  },
  {
   "cell_type": "markdown",
   "id": "c4d9fdf6",
   "metadata": {},
   "source": [
    "### High Dimension (up to degree 3)"
   ]
  },
  {
   "cell_type": "code",
   "execution_count": 11,
   "id": "0c3b8512",
   "metadata": {},
   "outputs": [
    {
     "name": "stdout",
     "output_type": "stream",
     "text": [
      "In-sample R2 (LASSO with scaled features and interactions): 0.2611804696911686\n",
      "In-sample MSE (LASSO with scaled features and interactions): 8.185699984499706\n",
      "Out-of-sample R2 (LASSO with scaled features and interactions): 0.21599049790821467\n",
      "Out-of-sample MSE (LASSO with scaled features and interactions): 7.8108728485671595\n"
     ]
    }
   ],
   "source": [
    "import pandas as pd\n",
    "from sklearn.model_selection import train_test_split\n",
    "from sklearn.preprocessing import PolynomialFeatures, StandardScaler\n",
    "from sklearn.linear_model import Lasso\n",
    "from sklearn.metrics import r2_score, mean_squared_error\n",
    "\n",
    "# Seperate independent and dependent variables\n",
    "x_feduc = new_df[[\"educ\", \"IQ\", \"age\", \"married\", \"female\", \"black\", \"south\", \"urban\", \"sibs\"]]\n",
    "y_feduc = new_df[['feduc']]\n",
    "\n",
    "# Split the data into training and testing sets\n",
    "x_train, x_test, y_train, y_test = train_test_split(x_feduc, y_feduc, test_size=0.2, random_state=42)\n",
    "\n",
    "# Create polynomial features including all possible interactions up to degree 3\n",
    "poly_features = PolynomialFeatures(degree=3, include_bias=False)\n",
    "x_train_poly = poly_features.fit_transform(x_train)\n",
    "x_test_poly = poly_features.transform(x_test)\n",
    "\n",
    "# Create a StandardScaler object and fit it to the training data\n",
    "scaler = StandardScaler()\n",
    "x_train_scaled = scaler.fit_transform(x_train_poly)\n",
    "x_test_scaled = scaler.transform(x_test_poly)\n",
    "\n",
    "# Create a LASSO Regression model\n",
    "model = Lasso(alpha=0.1)  # Adjust the alpha value for regularization strength\n",
    "\n",
    "# Fit the model using the scaled training data\n",
    "model.fit(x_train_scaled, y_train)\n",
    "\n",
    "# Predict the target variable for the training and testing data\n",
    "y_train_pred = model.predict(x_train_scaled)\n",
    "y_test_pred = model.predict(x_test_scaled)\n",
    "\n",
    "# Calculate in-sample R2 and MSE\n",
    "in_sample_r2 = r2_score(y_train, y_train_pred)\n",
    "in_sample_mse = mean_squared_error(y_train, y_train_pred)\n",
    "\n",
    "# Calculate out-of-sample R2 and MSE\n",
    "out_of_sample_r2 = r2_score(y_test, y_test_pred)\n",
    "out_of_sample_mse = mean_squared_error(y_test, y_test_pred)\n",
    "\n",
    "print(\"In-sample R2 (LASSO with scaled features and interactions):\", in_sample_r2)\n",
    "print(\"In-sample MSE (LASSO with scaled features and interactions):\", in_sample_mse)\n",
    "print(\"Out-of-sample R2 (LASSO with scaled features and interactions):\", out_of_sample_r2)\n",
    "print(\"Out-of-sample MSE (LASSO with scaled features and interactions):\", out_of_sample_mse)"
   ]
  },
  {
   "cell_type": "markdown",
   "id": "7da8595e",
   "metadata": {},
   "source": [
    "## LASSO (Cross-Validated)"
   ]
  },
  {
   "cell_type": "markdown",
   "id": "233a8d14",
   "metadata": {},
   "source": [
    "### Moderate Dimension"
   ]
  },
  {
   "cell_type": "code",
   "execution_count": 12,
   "id": "2992de63",
   "metadata": {},
   "outputs": [
    {
     "name": "stdout",
     "output_type": "stream",
     "text": [
      "In-sample R2 (LASSO with alpha tuning): 0.24723701798172604\n",
      "In-sample MSE (LASSO with alpha tuning): 8.340185495182059\n",
      "Out-of-sample R2 (LASSO with alpha tuning): 0.20562754795818472\n",
      "Out-of-sample MSE (LASSO with alpha tuning): 7.91411609266023\n"
     ]
    },
    {
     "name": "stderr",
     "output_type": "stream",
     "text": [
      "/Users/merveogretmek/anaconda3/lib/python3.10/site-packages/sklearn/linear_model/_coordinate_descent.py:1568: DataConversionWarning: A column-vector y was passed when a 1d array was expected. Please change the shape of y to (n_samples, ), for example using ravel().\n",
      "  y = column_or_1d(y, warn=True)\n"
     ]
    }
   ],
   "source": [
    "import pandas as pd\n",
    "from sklearn.model_selection import train_test_split\n",
    "from sklearn.linear_model import LassoCV\n",
    "from sklearn.metrics import r2_score, mean_squared_error\n",
    "\n",
    "# Seperate independent and dependent variables\n",
    "x_feduc = new_df[[\"educ\", \"IQ\", \"age\", \"married\", \"female\", \"black\", \"south\", \"urban\", \"sibs\"]]\n",
    "y_feduc = new_df[['feduc']]\n",
    "\n",
    "# Split the data into training and testing sets\n",
    "x_train, x_test, y_train, y_test = train_test_split(x_feduc, y_feduc, test_size=0.2, random_state=42)\n",
    "\n",
    "# Create a LASSO Regression model with cross-validated alpha tuning\n",
    "model = LassoCV(cv=5)  # Adjust cv parameter for the number of cross-validation folds\n",
    "\n",
    "# Fit the model using the training data\n",
    "model.fit(x_train, y_train)\n",
    "\n",
    "# Predict the target variable for the training and testing data\n",
    "y_train_pred = model.predict(x_train)\n",
    "y_test_pred = model.predict(x_test)\n",
    "\n",
    "# Calculate in-sample R2 and MSE\n",
    "in_sample_r2 = r2_score(y_train, y_train_pred)\n",
    "in_sample_mse = mean_squared_error(y_train, y_train_pred)\n",
    "\n",
    "# Calculate out-of-sample R2 and MSE\n",
    "out_of_sample_r2 = r2_score(y_test, y_test_pred)\n",
    "out_of_sample_mse = mean_squared_error(y_test, y_test_pred)\n",
    "\n",
    "print(\"In-sample R2 (LASSO with alpha tuning):\", in_sample_r2)\n",
    "print(\"In-sample MSE (LASSO with alpha tuning):\", in_sample_mse)\n",
    "print(\"Out-of-sample R2 (LASSO with alpha tuning):\", out_of_sample_r2)\n",
    "print(\"Out-of-sample MSE (LASSO with alpha tuning):\", out_of_sample_mse)"
   ]
  },
  {
   "cell_type": "markdown",
   "id": "ea636ec4",
   "metadata": {},
   "source": [
    "### High Dimension (up to degree 3)"
   ]
  },
  {
   "cell_type": "code",
   "execution_count": 13,
   "id": "a19ecb1f",
   "metadata": {},
   "outputs": [
    {
     "name": "stderr",
     "output_type": "stream",
     "text": [
      "/Users/merveogretmek/anaconda3/lib/python3.10/site-packages/sklearn/linear_model/_coordinate_descent.py:1568: DataConversionWarning: A column-vector y was passed when a 1d array was expected. Please change the shape of y to (n_samples, ), for example using ravel().\n",
      "  y = column_or_1d(y, warn=True)\n"
     ]
    },
    {
     "name": "stdout",
     "output_type": "stream",
     "text": [
      "In-sample R2 (LASSO with scaled features and interactions): 0.3371250121374145\n",
      "In-sample MSE (LASSO with scaled features and interactions): 7.3442776690051295\n",
      "Out-of-sample R2 (LASSO with scaled features and interactions): 0.2512177292644211\n",
      "Out-of-sample MSE (LASSO with scaled features and interactions): 7.459913549992008\n"
     ]
    }
   ],
   "source": [
    "import pandas as pd\n",
    "from sklearn.model_selection import train_test_split\n",
    "from sklearn.preprocessing import PolynomialFeatures, StandardScaler\n",
    "from sklearn.linear_model import Lasso\n",
    "from sklearn.metrics import r2_score, mean_squared_error\n",
    "\n",
    "# Seperate independent and dependent variables\n",
    "x_feduc = new_df[[\"educ\", \"IQ\", \"age\", \"married\", \"female\", \"black\", \"south\", \"urban\", \"sibs\"]]\n",
    "y_feduc = new_df[['feduc']]\n",
    "\n",
    "# Split the data into training and testing sets\n",
    "x_train, x_test, y_train, y_test = train_test_split(x_feduc, y_feduc, test_size=0.2, random_state=42)\n",
    "\n",
    "# Create polynomial features including all possible interactions up to degree 3\n",
    "poly_features = PolynomialFeatures(degree=3, include_bias=False)\n",
    "x_train_poly = poly_features.fit_transform(x_train)\n",
    "x_test_poly = poly_features.transform(x_test)\n",
    "\n",
    "# Create a StandardScaler object and fit it to the training data\n",
    "scaler = StandardScaler()\n",
    "x_train_scaled = scaler.fit_transform(x_train_poly)\n",
    "x_test_scaled = scaler.transform(x_test_poly)\n",
    "\n",
    "# Create a LASSO Regression model\n",
    "model = LassoCV(cv=5, max_iter=100000)  # Adjust the alpha value for regularization strength\n",
    "\n",
    "# Fit the model using the scaled training data\n",
    "model.fit(x_train_scaled, y_train)\n",
    "\n",
    "# Predict the target variable for the training and testing data\n",
    "y_train_pred = model.predict(x_train_scaled)\n",
    "y_test_pred = model.predict(x_test_scaled)\n",
    "\n",
    "# Calculate in-sample R2 and MSE\n",
    "in_sample_r2 = r2_score(y_train, y_train_pred)\n",
    "in_sample_mse = mean_squared_error(y_train, y_train_pred)\n",
    "\n",
    "# Calculate out-of-sample R2 and MSE\n",
    "out_of_sample_r2 = r2_score(y_test, y_test_pred)\n",
    "out_of_sample_mse = mean_squared_error(y_test, y_test_pred)\n",
    "\n",
    "print(\"In-sample R2 (LASSO with scaled features and interactions):\", in_sample_r2)\n",
    "print(\"In-sample MSE (LASSO with scaled features and interactions):\", in_sample_mse)\n",
    "print(\"Out-of-sample R2 (LASSO with scaled features and interactions):\", out_of_sample_r2)\n",
    "print(\"Out-of-sample MSE (LASSO with scaled features and interactions):\", out_of_sample_mse)"
   ]
  },
  {
   "cell_type": "markdown",
   "id": "6333f199",
   "metadata": {},
   "source": [
    "## Post LASSO"
   ]
  },
  {
   "cell_type": "markdown",
   "id": "aaf08118",
   "metadata": {},
   "source": [
    "### Moderate Dimension"
   ]
  },
  {
   "cell_type": "code",
   "execution_count": 14,
   "id": "4fb4294e",
   "metadata": {},
   "outputs": [
    {
     "name": "stdout",
     "output_type": "stream",
     "text": [
      "In-sample R2 (Post-LASSO): 0.24831902244514792\n",
      "In-sample MSE (Post-LASSO): 8.328197501421581\n",
      "Out-of-sample R2 (Post-LASSO): 0.2049870158266296\n",
      "Out-of-sample MSE (Post-LASSO): 7.920497539596332\n"
     ]
    },
    {
     "name": "stderr",
     "output_type": "stream",
     "text": [
      "/Users/merveogretmek/anaconda3/lib/python3.10/site-packages/sklearn/linear_model/_coordinate_descent.py:1568: DataConversionWarning: A column-vector y was passed when a 1d array was expected. Please change the shape of y to (n_samples, ), for example using ravel().\n",
      "  y = column_or_1d(y, warn=True)\n"
     ]
    }
   ],
   "source": [
    "import pandas as pd\n",
    "from sklearn.model_selection import train_test_split\n",
    "from sklearn.preprocessing import StandardScaler\n",
    "from sklearn.linear_model import LassoCV\n",
    "import statsmodels.api as sm\n",
    "from sklearn.metrics import r2_score, mean_squared_error\n",
    "\n",
    "# Seperate independent and dependent variables\n",
    "x_feduc = new_df[[\"educ\", \"IQ\", \"age\", \"married\", \"female\", \"black\", \"south\", \"urban\", \"sibs\"]]\n",
    "y_feduc = new_df[['feduc']]\n",
    "\n",
    "# Split the data into training and testing sets\n",
    "x_train, x_test, y_train, y_test = train_test_split(x_feduc, y_feduc, test_size=0.2, random_state=42)\n",
    "\n",
    "# Create a StandardScaler object and fit it to the training data\n",
    "scaler = StandardScaler()\n",
    "x_train_scaled = scaler.fit_transform(x_train)\n",
    "x_test_scaled = scaler.transform(x_test)\n",
    "\n",
    "# Create a LASSO Regression model with cross-validated alpha tuning\n",
    "model = LassoCV(cv=5)  # Adjust cv parameter for the number of cross-validation folds\n",
    "\n",
    "# Fit the model using the scaled training data\n",
    "model.fit(x_train_scaled, y_train)\n",
    "\n",
    "# Perform post-LASSO inference\n",
    "X_train_scaled_with_intercept = sm.add_constant(x_train_scaled)\n",
    "model_sm = sm.OLS(y_train, X_train_scaled_with_intercept)\n",
    "results = model_sm.fit_regularized(alpha=model.alpha_, L1_wt=1)\n",
    "\n",
    "# Predict the target variable for the training and testing data\n",
    "X_test_scaled_with_intercept = sm.add_constant(x_test_scaled)\n",
    "y_train_pred = results.predict(X_train_scaled_with_intercept)\n",
    "y_test_pred = results.predict(X_test_scaled_with_intercept)\n",
    "\n",
    "# Calculate in-sample R2 and MSE\n",
    "in_sample_r2 = r2_score(y_train, y_train_pred)\n",
    "in_sample_mse = mean_squared_error(y_train, y_train_pred)\n",
    "\n",
    "# Calculate out-of-sample R2 and MSE\n",
    "out_of_sample_r2 = r2_score(y_test, y_test_pred)\n",
    "out_of_sample_mse = mean_squared_error(y_test, y_test_pred)\n",
    "\n",
    "print(\"In-sample R2 (Post-LASSO):\", in_sample_r2)\n",
    "print(\"In-sample MSE (Post-LASSO):\", in_sample_mse)\n",
    "print(\"Out-of-sample R2 (Post-LASSO):\", out_of_sample_r2)\n",
    "print(\"Out-of-sample MSE (Post-LASSO):\", out_of_sample_mse)"
   ]
  },
  {
   "cell_type": "markdown",
   "id": "00efc438",
   "metadata": {},
   "source": [
    "### High Dimension (up to degree 3)"
   ]
  },
  {
   "cell_type": "code",
   "execution_count": 15,
   "id": "32f701ab",
   "metadata": {},
   "outputs": [
    {
     "name": "stderr",
     "output_type": "stream",
     "text": [
      "/Users/merveogretmek/anaconda3/lib/python3.10/site-packages/sklearn/linear_model/_coordinate_descent.py:1568: DataConversionWarning: A column-vector y was passed when a 1d array was expected. Please change the shape of y to (n_samples, ), for example using ravel().\n",
      "  y = column_or_1d(y, warn=True)\n"
     ]
    },
    {
     "name": "stdout",
     "output_type": "stream",
     "text": [
      "In-sample R2 (Post-LASSO with interactions): 0.3176703888008058\n",
      "In-sample MSE (Post-LASSO with interactions): 7.559823825288191\n",
      "Out-of-sample R2 (Post-LASSO with interactions): 0.24019796885702716\n",
      "Out-of-sample MSE (Post-LASSO with interactions): 7.5697004175416716\n"
     ]
    }
   ],
   "source": [
    "import pandas as pd\n",
    "from sklearn.model_selection import train_test_split\n",
    "from sklearn.preprocessing import PolynomialFeatures, StandardScaler\n",
    "from sklearn.linear_model import LassoCV\n",
    "import statsmodels.api as sm\n",
    "from sklearn.metrics import r2_score, mean_squared_error\n",
    "\n",
    "# Seperate independent and dependent variables\n",
    "x_feduc = new_df[[\"educ\", \"IQ\", \"age\", \"married\", \"female\", \"black\", \"south\", \"urban\", \"sibs\"]]\n",
    "y_feduc = new_df[['feduc']]\n",
    "\n",
    "# Split the data into training and testing sets\n",
    "x_train, x_test, y_train, y_test = train_test_split(x_feduc, y_feduc, test_size=0.2, random_state=42)\n",
    "\n",
    "# Create polynomial features including all possible interactions up to degree 3\n",
    "poly_features = PolynomialFeatures(degree=3, include_bias=False)\n",
    "x_train_poly = poly_features.fit_transform(x_train)\n",
    "x_test_poly = poly_features.transform(x_test)\n",
    "\n",
    "# Create a StandardScaler object and fit it to the training data with polynomial features\n",
    "scaler = StandardScaler()\n",
    "x_train_scaled = scaler.fit_transform(x_train_poly)\n",
    "x_test_scaled = scaler.transform(x_test_poly)\n",
    "\n",
    "# Create a LASSO Regression model with cross-validated alpha tuning\n",
    "model = LassoCV(cv=5, max_iter=100000)  # Adjust cv parameter for the number of cross-validation folds\n",
    "\n",
    "# Fit the model using the scaled training data\n",
    "model.fit(x_train_scaled, y_train)\n",
    "\n",
    "# Perform post-LASSO inference\n",
    "X_train_scaled_with_intercept = sm.add_constant(x_train_scaled)\n",
    "model_sm = sm.OLS(y_train, X_train_scaled_with_intercept)\n",
    "results = model_sm.fit_regularized(alpha=model.alpha_, L1_wt=1)\n",
    "\n",
    "# Predict the target variable for the training and testing data\n",
    "X_test_scaled_with_intercept = sm.add_constant(x_test_scaled)\n",
    "y_train_pred = results.predict(X_train_scaled_with_intercept)\n",
    "y_test_pred = results.predict(X_test_scaled_with_intercept)\n",
    "\n",
    "# Calculate in-sample R2 and MSE\n",
    "in_sample_r2 = r2_score(y_train, y_train_pred)\n",
    "in_sample_mse = mean_squared_error(y_train, y_train_pred)\n",
    "\n",
    "# Calculate out-of-sample R2 and MSE\n",
    "out_of_sample_r2 = r2_score(y_test, y_test_pred)\n",
    "out_of_sample_mse = mean_squared_error(y_test, y_test_pred)\n",
    "\n",
    "print(\"In-sample R2 (Post-LASSO with interactions):\", in_sample_r2)\n",
    "print(\"In-sample MSE (Post-LASSO with interactions):\", in_sample_mse)\n",
    "print(\"Out-of-sample R2 (Post-LASSO with interactions):\", out_of_sample_r2)\n",
    "print(\"Out-of-sample MSE (Post-LASSO with interactions):\", out_of_sample_mse)"
   ]
  },
  {
   "cell_type": "markdown",
   "id": "7d4ec49b",
   "metadata": {},
   "source": [
    "## Prediction"
   ]
  },
  {
   "cell_type": "markdown",
   "id": "f5a00415",
   "metadata": {},
   "source": [
    "Result: Best Performing Model is LASSO(alpha=0.1) with High Dimension up to degree 3"
   ]
  },
  {
   "cell_type": "code",
   "execution_count": 16,
   "id": "bdde499f",
   "metadata": {},
   "outputs": [
    {
     "name": "stderr",
     "output_type": "stream",
     "text": [
      "/Users/merveogretmek/anaconda3/lib/python3.10/site-packages/sklearn/linear_model/_coordinate_descent.py:1568: DataConversionWarning: A column-vector y was passed when a 1d array was expected. Please change the shape of y to (n_samples, ), for example using ravel().\n",
      "  y = column_or_1d(y, warn=True)\n"
     ]
    },
    {
     "data": {
      "text/html": [
       "<style>#sk-container-id-1 {color: black;background-color: white;}#sk-container-id-1 pre{padding: 0;}#sk-container-id-1 div.sk-toggleable {background-color: white;}#sk-container-id-1 label.sk-toggleable__label {cursor: pointer;display: block;width: 100%;margin-bottom: 0;padding: 0.3em;box-sizing: border-box;text-align: center;}#sk-container-id-1 label.sk-toggleable__label-arrow:before {content: \"▸\";float: left;margin-right: 0.25em;color: #696969;}#sk-container-id-1 label.sk-toggleable__label-arrow:hover:before {color: black;}#sk-container-id-1 div.sk-estimator:hover label.sk-toggleable__label-arrow:before {color: black;}#sk-container-id-1 div.sk-toggleable__content {max-height: 0;max-width: 0;overflow: hidden;text-align: left;background-color: #f0f8ff;}#sk-container-id-1 div.sk-toggleable__content pre {margin: 0.2em;color: black;border-radius: 0.25em;background-color: #f0f8ff;}#sk-container-id-1 input.sk-toggleable__control:checked~div.sk-toggleable__content {max-height: 200px;max-width: 100%;overflow: auto;}#sk-container-id-1 input.sk-toggleable__control:checked~label.sk-toggleable__label-arrow:before {content: \"▾\";}#sk-container-id-1 div.sk-estimator input.sk-toggleable__control:checked~label.sk-toggleable__label {background-color: #d4ebff;}#sk-container-id-1 div.sk-label input.sk-toggleable__control:checked~label.sk-toggleable__label {background-color: #d4ebff;}#sk-container-id-1 input.sk-hidden--visually {border: 0;clip: rect(1px 1px 1px 1px);clip: rect(1px, 1px, 1px, 1px);height: 1px;margin: -1px;overflow: hidden;padding: 0;position: absolute;width: 1px;}#sk-container-id-1 div.sk-estimator {font-family: monospace;background-color: #f0f8ff;border: 1px dotted black;border-radius: 0.25em;box-sizing: border-box;margin-bottom: 0.5em;}#sk-container-id-1 div.sk-estimator:hover {background-color: #d4ebff;}#sk-container-id-1 div.sk-parallel-item::after {content: \"\";width: 100%;border-bottom: 1px solid gray;flex-grow: 1;}#sk-container-id-1 div.sk-label:hover label.sk-toggleable__label {background-color: #d4ebff;}#sk-container-id-1 div.sk-serial::before {content: \"\";position: absolute;border-left: 1px solid gray;box-sizing: border-box;top: 0;bottom: 0;left: 50%;z-index: 0;}#sk-container-id-1 div.sk-serial {display: flex;flex-direction: column;align-items: center;background-color: white;padding-right: 0.2em;padding-left: 0.2em;position: relative;}#sk-container-id-1 div.sk-item {position: relative;z-index: 1;}#sk-container-id-1 div.sk-parallel {display: flex;align-items: stretch;justify-content: center;background-color: white;position: relative;}#sk-container-id-1 div.sk-item::before, #sk-container-id-1 div.sk-parallel-item::before {content: \"\";position: absolute;border-left: 1px solid gray;box-sizing: border-box;top: 0;bottom: 0;left: 50%;z-index: -1;}#sk-container-id-1 div.sk-parallel-item {display: flex;flex-direction: column;z-index: 1;position: relative;background-color: white;}#sk-container-id-1 div.sk-parallel-item:first-child::after {align-self: flex-end;width: 50%;}#sk-container-id-1 div.sk-parallel-item:last-child::after {align-self: flex-start;width: 50%;}#sk-container-id-1 div.sk-parallel-item:only-child::after {width: 0;}#sk-container-id-1 div.sk-dashed-wrapped {border: 1px dashed gray;margin: 0 0.4em 0.5em 0.4em;box-sizing: border-box;padding-bottom: 0.4em;background-color: white;}#sk-container-id-1 div.sk-label label {font-family: monospace;font-weight: bold;display: inline-block;line-height: 1.2em;}#sk-container-id-1 div.sk-label-container {text-align: center;}#sk-container-id-1 div.sk-container {/* jupyter's `normalize.less` sets `[hidden] { display: none; }` but bootstrap.min.css set `[hidden] { display: none !important; }` so we also need the `!important` here to be able to override the default hidden behavior on the sphinx rendered scikit-learn.org. See: https://github.com/scikit-learn/scikit-learn/issues/21755 */display: inline-block !important;position: relative;}#sk-container-id-1 div.sk-text-repr-fallback {display: none;}</style><div id=\"sk-container-id-1\" class=\"sk-top-container\"><div class=\"sk-text-repr-fallback\"><pre>LassoCV(cv=5, max_iter=100000)</pre><b>In a Jupyter environment, please rerun this cell to show the HTML representation or trust the notebook. <br />On GitHub, the HTML representation is unable to render, please try loading this page with nbviewer.org.</b></div><div class=\"sk-container\" hidden><div class=\"sk-item\"><div class=\"sk-estimator sk-toggleable\"><input class=\"sk-toggleable__control sk-hidden--visually\" id=\"sk-estimator-id-1\" type=\"checkbox\" checked><label for=\"sk-estimator-id-1\" class=\"sk-toggleable__label sk-toggleable__label-arrow\">LassoCV</label><div class=\"sk-toggleable__content\"><pre>LassoCV(cv=5, max_iter=100000)</pre></div></div></div></div></div>"
      ],
      "text/plain": [
       "LassoCV(cv=5, max_iter=100000)"
      ]
     },
     "execution_count": 16,
     "metadata": {},
     "output_type": "execute_result"
    }
   ],
   "source": [
    "import pandas as pd\n",
    "from sklearn.model_selection import train_test_split\n",
    "from sklearn.linear_model import LassoCV\n",
    "from sklearn.preprocessing import PolynomialFeatures\n",
    "from sklearn.metrics import r2_score, mean_squared_error\n",
    "\n",
    "# Seperate independent and dependent variables\n",
    "x_feduc = new_df[[\"educ\", \"IQ\", \"age\", \"married\", \"female\", \"black\", \"south\", \"urban\", \"sibs\"]]\n",
    "y_feduc = new_df[['feduc']]\n",
    "\n",
    "# Split the data into training and testing sets\n",
    "x_train, x_test, y_train, y_test = train_test_split(x_feduc, y_feduc, test_size=0.2, random_state=42)\n",
    "\n",
    "# Create polynomial features including all possible interactions up to degree 3\n",
    "poly_features = PolynomialFeatures(degree=3, include_bias=False)\n",
    "x_train_poly = poly_features.fit_transform(x_train)\n",
    "x_test_poly = poly_features.transform(x_test)\n",
    "\n",
    "# Create a LASSO model\n",
    "model = LassoCV(cv=5, max_iter=100000)\n",
    "\n",
    "# Fit the model using the training data with polynomial features\n",
    "model.fit(x_train_poly, y_train)"
   ]
  },
  {
   "cell_type": "code",
   "execution_count": 17,
   "id": "03e33299",
   "metadata": {},
   "outputs": [
    {
     "name": "stderr",
     "output_type": "stream",
     "text": [
      "/var/folders/1p/063yl0ms01z8skkqfmk94z9c0000gn/T/ipykernel_19470/682602685.py:27: SettingWithCopyWarning: \n",
      "A value is trying to be set on a copy of a slice from a DataFrame.\n",
      "Try using .loc[row_indexer,col_indexer] = value instead\n",
      "\n",
      "See the caveats in the documentation: https://pandas.pydata.org/pandas-docs/stable/user_guide/indexing.html#returning-a-view-versus-a-copy\n",
      "  missing_rows['feduc'] = feduc_pred\n",
      "/var/folders/1p/063yl0ms01z8skkqfmk94z9c0000gn/T/ipykernel_19470/682602685.py:30: SettingWithCopyWarning: \n",
      "A value is trying to be set on a copy of a slice from a DataFrame.\n",
      "Try using .loc[row_indexer,col_indexer] = value instead\n",
      "\n",
      "See the caveats in the documentation: https://pandas.pydata.org/pandas-docs/stable/user_guide/indexing.html#returning-a-view-versus-a-copy\n",
      "  missing_rows['feduc'] = round(missing_rows['feduc'])\n"
     ]
    }
   ],
   "source": [
    "import pandas as pd\n",
    "from sklearn.model_selection import train_test_split\n",
    "from sklearn.linear_model import LassoCV\n",
    "from sklearn.preprocessing import StandardScaler\n",
    "\n",
    "# Filter the rows with missing feduc values\n",
    "missing_rows = df[df['feduc'].isnull()]\n",
    "\n",
    "# Extract the features for the missing rows\n",
    "x_missing = missing_rows[[\"educ\", \"IQ\", \"age\", \"married\", \"female\", \"black\", \"south\", \"urban\", \"sibs\"]]\n",
    "\n",
    "# Create polynomial features with interactions up to degree 3\n",
    "poly_features = PolynomialFeatures(degree=3, include_bias=False)\n",
    "x_missing_interactions = poly_features.fit_transform(x_missing)\n",
    "\n",
    "# Create a new DataFrame with the original and interaction features\n",
    "missing_rows_interactions_df = pd.DataFrame(x_missing_interactions,\n",
    "                                            columns=poly_features.get_feature_names_out(x_missing.columns))\n",
    "# Scale the features\n",
    "scaler = StandardScaler()\n",
    "x_missing_scaled = scaler.fit_transform(missing_rows_interactions_df)\n",
    "\n",
    "# Predict the birthorder for the missing rows using the trained LASSO model\n",
    "feduc_pred = model.predict(x_missing_scaled)\n",
    "\n",
    "# Fill the missing values with the predicted feduc values\n",
    "missing_rows['feduc'] = feduc_pred\n",
    "\n",
    "# Round the value (education is integer)\n",
    "missing_rows['feduc'] = round(missing_rows['feduc'])"
   ]
  },
  {
   "cell_type": "code",
   "execution_count": 18,
   "id": "0a24d5ee",
   "metadata": {},
   "outputs": [],
   "source": [
    "# Set the index of both DataFrames to match on \"id\" and \"year\" columns\n",
    "df = df.set_index([\"id\", \"year\"])\n",
    "missing_rows = missing_rows.set_index([\"id\", \"year\"])\n",
    "\n",
    "# Replace the missing values in df with values from missing_rows\n",
    "df[\"feduc\"] = df[\"feduc\"].combine_first(missing_rows[\"feduc\"])\n",
    "\n",
    "# Reset the index\n",
    "df = df.reset_index()"
   ]
  },
  {
   "cell_type": "code",
   "execution_count": 19,
   "id": "4de972b4",
   "metadata": {},
   "outputs": [
    {
     "name": "stdout",
     "output_type": "stream",
     "text": [
      "id           0\n",
      "year         0\n",
      "wage         0\n",
      "hours        0\n",
      "emp          0\n",
      "treat        0\n",
      "female       0\n",
      "IQ           0\n",
      "KWW          0\n",
      "educ         0\n",
      "exper        0\n",
      "tenure       0\n",
      "age          0\n",
      "married      0\n",
      "black        0\n",
      "south        0\n",
      "urban        0\n",
      "sibs         0\n",
      "brthord    188\n",
      "meduc      174\n",
      "feduc        0\n",
      "dtype: int64\n"
     ]
    }
   ],
   "source": [
    "# Check for missing values after prediction\n",
    "print(df.isnull().sum())"
   ]
  },
  {
   "cell_type": "code",
   "execution_count": 20,
   "id": "37bc72bc",
   "metadata": {},
   "outputs": [],
   "source": [
    "df.to_csv(\"feduc.csv\", index=False)"
   ]
  },
  {
   "cell_type": "markdown",
   "id": "8ad7a320",
   "metadata": {},
   "source": [
    "## Assumptions"
   ]
  },
  {
   "cell_type": "markdown",
   "id": "3c84a058",
   "metadata": {},
   "source": [
    "### Sparsity"
   ]
  },
  {
   "cell_type": "code",
   "execution_count": 21,
   "id": "47927b09",
   "metadata": {},
   "outputs": [
    {
     "name": "stderr",
     "output_type": "stream",
     "text": [
      "/Users/merveogretmek/anaconda3/lib/python3.10/site-packages/sklearn/linear_model/_coordinate_descent.py:1568: DataConversionWarning: A column-vector y was passed when a 1d array was expected. Please change the shape of y to (n_samples, ), for example using ravel().\n",
      "  y = column_or_1d(y, warn=True)\n"
     ]
    },
    {
     "name": "stdout",
     "output_type": "stream",
     "text": [
      "Total number of features:  219\n",
      "Number of features LASSO used (non-zero coefficient):  9\n",
      "Number of features LASSO did not use (zero coefficient):  210\n"
     ]
    }
   ],
   "source": [
    "import pandas as pd\n",
    "from sklearn.model_selection import train_test_split\n",
    "from sklearn.linear_model import Lasso\n",
    "from sklearn.preprocessing import PolynomialFeatures\n",
    "from sklearn.metrics import r2_score, mean_squared_error\n",
    "\n",
    "# Seperate independent and dependent variables\n",
    "x_feduc = new_df[[\"educ\", \"IQ\", \"age\", \"married\", \"female\", \"black\", \"south\", \"urban\", \"sibs\"]]\n",
    "y_feduc = new_df[['feduc']]\n",
    "\n",
    "# Split the data into training and testing sets\n",
    "x_train, x_test, y_train, y_test = train_test_split(x_feduc, y_feduc, test_size=0.2, random_state=42)\n",
    "\n",
    "# Create polynomial features including all possible interactions up to degree 3\n",
    "poly_features = PolynomialFeatures(degree=3, include_bias=False)\n",
    "x_train_poly = poly_features.fit_transform(x_train)\n",
    "x_test_poly = poly_features.transform(x_test)\n",
    "\n",
    "# Create a LASSO model\n",
    "model = LassoCV(cv=5, max_iter=100000)\n",
    "\n",
    "# Fit the model using the training data with polynomial features\n",
    "model.fit(x_train_poly, y_train)\n",
    "\n",
    "# Retrieve the coefficients\n",
    "coef = model.coef_\n",
    "\n",
    "# Count number of coefficients that are exactly zero\n",
    "n_zero_coef = np.sum(coef == 0)\n",
    "total_coef = len(coef)\n",
    "\n",
    "print(\"Total number of features: \", total_coef)\n",
    "print(\"Number of features LASSO used (non-zero coefficient): \", total_coef - n_zero_coef)\n",
    "print(\"Number of features LASSO did not use (zero coefficient): \", n_zero_coef)"
   ]
  },
  {
   "cell_type": "markdown",
   "id": "4a781119",
   "metadata": {},
   "source": [
    "### Independence"
   ]
  },
  {
   "cell_type": "code",
   "execution_count": 22,
   "id": "86d112f2",
   "metadata": {},
   "outputs": [
    {
     "name": "stdout",
     "output_type": "stream",
     "text": [
      "Durbin-Watson statistic: 2.0228604978327174\n"
     ]
    }
   ],
   "source": [
    "import numpy as np\n",
    "from statsmodels.stats.stattools import durbin_watson\n",
    "\n",
    "# Predict the outcomes for the training data\n",
    "y_train_pred = model.predict(x_train_poly)\n",
    "\n",
    "# Compute the residuals\n",
    "residuals = y_train.values.flatten() - y_train_pred\n",
    "\n",
    "# Perform the Durbin-Watson test\n",
    "dw_result = durbin_watson(residuals)\n",
    "\n",
    "print('Durbin-Watson statistic:', dw_result)"
   ]
  },
  {
   "cell_type": "markdown",
   "id": "dd265ade",
   "metadata": {},
   "source": [
    "## Sensitivity Analysis"
   ]
  },
  {
   "cell_type": "markdown",
   "id": "bc6284d4",
   "metadata": {},
   "source": [
    "### Education"
   ]
  },
  {
   "cell_type": "code",
   "execution_count": 23,
   "id": "2e9f4798",
   "metadata": {
    "scrolled": true
   },
   "outputs": [
    {
     "name": "stdout",
     "output_type": "stream",
     "text": [
      "    Change in educ   Change in Prediction\n",
      "0        -1.600000  [-0.5937329159236597]\n",
      "1        -1.534694  [-1.1632318352790065]\n",
      "2        -1.469388  [-1.7084967580660404]\n",
      "3        -1.404082  [-2.2295276842847613]\n",
      "4        -1.338776   [-2.726324613935171]\n",
      "5        -1.273469   [-3.198887547017266]\n",
      "6        -1.208163    [-3.64721648353105]\n",
      "7        -1.142857   [-4.071311423476521]\n",
      "8        -1.077551   [-4.471172366853679]\n",
      "9        -1.012245   [-4.846799313662524]\n",
      "10       -0.946939   [-5.198192263903057]\n",
      "11       -0.881633  [-5.5253512175752775]\n",
      "12       -0.816327   [-5.828276174679186]\n",
      "13       -0.751020   [-6.106967135214781]\n",
      "14       -0.685714   [-6.361424099182063]\n",
      "15       -0.620408   [-6.591647066581032]\n",
      "16       -0.555102  [-6.7976360374116895]\n",
      "17       -0.489796   [-6.979391011674034]\n",
      "18       -0.424490   [-7.136911989368066]\n",
      "19       -0.359184  [-7.2701989704937855]\n",
      "20       -0.293878   [-7.379251955051192]\n",
      "21       -0.228571   [-7.464070943040287]\n",
      "22       -0.163265   [-7.524655934461068]\n",
      "23       -0.097959   [-7.561006929313537]\n",
      "24       -0.032653   [-7.573123927597694]\n",
      "25        0.032653   [-7.561006929313537]\n",
      "26        0.097959   [-7.524655934461068]\n",
      "27        0.163265   [-7.464070943040287]\n",
      "28        0.228571   [-7.379251955051192]\n",
      "29        0.293878  [-7.2701989704937855]\n",
      "30        0.359184   [-7.136911989368066]\n",
      "31        0.424490   [-6.979391011674034]\n",
      "32        0.489796  [-6.7976360374116895]\n",
      "33        0.555102   [-6.591647066581032]\n",
      "34        0.620408   [-6.361424099182063]\n",
      "35        0.685714   [-6.106967135214781]\n",
      "36        0.751020   [-5.828276174679186]\n",
      "37        0.816327  [-5.5253512175752775]\n",
      "38        0.881633   [-5.198192263903057]\n",
      "39        0.946939   [-4.846799313662524]\n",
      "40        1.012245   [-4.471172366853679]\n",
      "41        1.077551    [-4.07131142347652]\n",
      "42        1.142857    [-3.64721648353105]\n",
      "43        1.208163   [-3.198887547017266]\n",
      "44        1.273469  [-2.7263246139351693]\n",
      "45        1.338776  [-2.2295276842847613]\n",
      "46        1.404082  [-1.7084967580660386]\n",
      "47        1.469388  [-1.1632318352790048]\n",
      "48        1.534694   [-0.593732915923658]\n",
      "49        1.600000                  [0.0]\n"
     ]
    },
    {
     "name": "stderr",
     "output_type": "stream",
     "text": [
      "/Users/merveogretmek/anaconda3/lib/python3.10/site-packages/sklearn/base.py:420: UserWarning: X does not have valid feature names, but PolynomialFeatures was fitted with feature names\n",
      "  warnings.warn(\n",
      "/Users/merveogretmek/anaconda3/lib/python3.10/site-packages/sklearn/base.py:420: UserWarning: X does not have valid feature names, but PolynomialFeatures was fitted with feature names\n",
      "  warnings.warn(\n",
      "/Users/merveogretmek/anaconda3/lib/python3.10/site-packages/sklearn/base.py:420: UserWarning: X does not have valid feature names, but PolynomialFeatures was fitted with feature names\n",
      "  warnings.warn(\n",
      "/Users/merveogretmek/anaconda3/lib/python3.10/site-packages/sklearn/base.py:420: UserWarning: X does not have valid feature names, but PolynomialFeatures was fitted with feature names\n",
      "  warnings.warn(\n",
      "/Users/merveogretmek/anaconda3/lib/python3.10/site-packages/sklearn/base.py:420: UserWarning: X does not have valid feature names, but PolynomialFeatures was fitted with feature names\n",
      "  warnings.warn(\n",
      "/Users/merveogretmek/anaconda3/lib/python3.10/site-packages/sklearn/base.py:420: UserWarning: X does not have valid feature names, but PolynomialFeatures was fitted with feature names\n",
      "  warnings.warn(\n",
      "/Users/merveogretmek/anaconda3/lib/python3.10/site-packages/sklearn/base.py:420: UserWarning: X does not have valid feature names, but PolynomialFeatures was fitted with feature names\n",
      "  warnings.warn(\n",
      "/Users/merveogretmek/anaconda3/lib/python3.10/site-packages/sklearn/base.py:420: UserWarning: X does not have valid feature names, but PolynomialFeatures was fitted with feature names\n",
      "  warnings.warn(\n",
      "/Users/merveogretmek/anaconda3/lib/python3.10/site-packages/sklearn/base.py:420: UserWarning: X does not have valid feature names, but PolynomialFeatures was fitted with feature names\n",
      "  warnings.warn(\n",
      "/Users/merveogretmek/anaconda3/lib/python3.10/site-packages/sklearn/base.py:420: UserWarning: X does not have valid feature names, but PolynomialFeatures was fitted with feature names\n",
      "  warnings.warn(\n",
      "/Users/merveogretmek/anaconda3/lib/python3.10/site-packages/sklearn/base.py:420: UserWarning: X does not have valid feature names, but PolynomialFeatures was fitted with feature names\n",
      "  warnings.warn(\n",
      "/Users/merveogretmek/anaconda3/lib/python3.10/site-packages/sklearn/base.py:420: UserWarning: X does not have valid feature names, but PolynomialFeatures was fitted with feature names\n",
      "  warnings.warn(\n",
      "/Users/merveogretmek/anaconda3/lib/python3.10/site-packages/sklearn/base.py:420: UserWarning: X does not have valid feature names, but PolynomialFeatures was fitted with feature names\n",
      "  warnings.warn(\n",
      "/Users/merveogretmek/anaconda3/lib/python3.10/site-packages/sklearn/base.py:420: UserWarning: X does not have valid feature names, but PolynomialFeatures was fitted with feature names\n",
      "  warnings.warn(\n",
      "/Users/merveogretmek/anaconda3/lib/python3.10/site-packages/sklearn/base.py:420: UserWarning: X does not have valid feature names, but PolynomialFeatures was fitted with feature names\n",
      "  warnings.warn(\n",
      "/Users/merveogretmek/anaconda3/lib/python3.10/site-packages/sklearn/base.py:420: UserWarning: X does not have valid feature names, but PolynomialFeatures was fitted with feature names\n",
      "  warnings.warn(\n",
      "/Users/merveogretmek/anaconda3/lib/python3.10/site-packages/sklearn/base.py:420: UserWarning: X does not have valid feature names, but PolynomialFeatures was fitted with feature names\n",
      "  warnings.warn(\n",
      "/Users/merveogretmek/anaconda3/lib/python3.10/site-packages/sklearn/base.py:420: UserWarning: X does not have valid feature names, but PolynomialFeatures was fitted with feature names\n",
      "  warnings.warn(\n",
      "/Users/merveogretmek/anaconda3/lib/python3.10/site-packages/sklearn/base.py:420: UserWarning: X does not have valid feature names, but PolynomialFeatures was fitted with feature names\n",
      "  warnings.warn(\n",
      "/Users/merveogretmek/anaconda3/lib/python3.10/site-packages/sklearn/base.py:420: UserWarning: X does not have valid feature names, but PolynomialFeatures was fitted with feature names\n",
      "  warnings.warn(\n",
      "/Users/merveogretmek/anaconda3/lib/python3.10/site-packages/sklearn/base.py:420: UserWarning: X does not have valid feature names, but PolynomialFeatures was fitted with feature names\n",
      "  warnings.warn(\n",
      "/Users/merveogretmek/anaconda3/lib/python3.10/site-packages/sklearn/base.py:420: UserWarning: X does not have valid feature names, but PolynomialFeatures was fitted with feature names\n",
      "  warnings.warn(\n",
      "/Users/merveogretmek/anaconda3/lib/python3.10/site-packages/sklearn/base.py:420: UserWarning: X does not have valid feature names, but PolynomialFeatures was fitted with feature names\n",
      "  warnings.warn(\n",
      "/Users/merveogretmek/anaconda3/lib/python3.10/site-packages/sklearn/base.py:420: UserWarning: X does not have valid feature names, but PolynomialFeatures was fitted with feature names\n",
      "  warnings.warn(\n",
      "/Users/merveogretmek/anaconda3/lib/python3.10/site-packages/sklearn/base.py:420: UserWarning: X does not have valid feature names, but PolynomialFeatures was fitted with feature names\n",
      "  warnings.warn(\n",
      "/Users/merveogretmek/anaconda3/lib/python3.10/site-packages/sklearn/base.py:420: UserWarning: X does not have valid feature names, but PolynomialFeatures was fitted with feature names\n",
      "  warnings.warn(\n",
      "/Users/merveogretmek/anaconda3/lib/python3.10/site-packages/sklearn/base.py:420: UserWarning: X does not have valid feature names, but PolynomialFeatures was fitted with feature names\n",
      "  warnings.warn(\n",
      "/Users/merveogretmek/anaconda3/lib/python3.10/site-packages/sklearn/base.py:420: UserWarning: X does not have valid feature names, but PolynomialFeatures was fitted with feature names\n",
      "  warnings.warn(\n",
      "/Users/merveogretmek/anaconda3/lib/python3.10/site-packages/sklearn/base.py:420: UserWarning: X does not have valid feature names, but PolynomialFeatures was fitted with feature names\n",
      "  warnings.warn(\n",
      "/Users/merveogretmek/anaconda3/lib/python3.10/site-packages/sklearn/base.py:420: UserWarning: X does not have valid feature names, but PolynomialFeatures was fitted with feature names\n",
      "  warnings.warn(\n",
      "/Users/merveogretmek/anaconda3/lib/python3.10/site-packages/sklearn/base.py:420: UserWarning: X does not have valid feature names, but PolynomialFeatures was fitted with feature names\n",
      "  warnings.warn(\n",
      "/Users/merveogretmek/anaconda3/lib/python3.10/site-packages/sklearn/base.py:420: UserWarning: X does not have valid feature names, but PolynomialFeatures was fitted with feature names\n",
      "  warnings.warn(\n",
      "/Users/merveogretmek/anaconda3/lib/python3.10/site-packages/sklearn/base.py:420: UserWarning: X does not have valid feature names, but PolynomialFeatures was fitted with feature names\n",
      "  warnings.warn(\n",
      "/Users/merveogretmek/anaconda3/lib/python3.10/site-packages/sklearn/base.py:420: UserWarning: X does not have valid feature names, but PolynomialFeatures was fitted with feature names\n",
      "  warnings.warn(\n",
      "/Users/merveogretmek/anaconda3/lib/python3.10/site-packages/sklearn/base.py:420: UserWarning: X does not have valid feature names, but PolynomialFeatures was fitted with feature names\n",
      "  warnings.warn(\n",
      "/Users/merveogretmek/anaconda3/lib/python3.10/site-packages/sklearn/base.py:420: UserWarning: X does not have valid feature names, but PolynomialFeatures was fitted with feature names\n",
      "  warnings.warn(\n",
      "/Users/merveogretmek/anaconda3/lib/python3.10/site-packages/sklearn/base.py:420: UserWarning: X does not have valid feature names, but PolynomialFeatures was fitted with feature names\n",
      "  warnings.warn(\n",
      "/Users/merveogretmek/anaconda3/lib/python3.10/site-packages/sklearn/base.py:420: UserWarning: X does not have valid feature names, but PolynomialFeatures was fitted with feature names\n",
      "  warnings.warn(\n",
      "/Users/merveogretmek/anaconda3/lib/python3.10/site-packages/sklearn/base.py:420: UserWarning: X does not have valid feature names, but PolynomialFeatures was fitted with feature names\n",
      "  warnings.warn(\n",
      "/Users/merveogretmek/anaconda3/lib/python3.10/site-packages/sklearn/base.py:420: UserWarning: X does not have valid feature names, but PolynomialFeatures was fitted with feature names\n",
      "  warnings.warn(\n",
      "/Users/merveogretmek/anaconda3/lib/python3.10/site-packages/sklearn/base.py:420: UserWarning: X does not have valid feature names, but PolynomialFeatures was fitted with feature names\n",
      "  warnings.warn(\n",
      "/Users/merveogretmek/anaconda3/lib/python3.10/site-packages/sklearn/base.py:420: UserWarning: X does not have valid feature names, but PolynomialFeatures was fitted with feature names\n",
      "  warnings.warn(\n",
      "/Users/merveogretmek/anaconda3/lib/python3.10/site-packages/sklearn/base.py:420: UserWarning: X does not have valid feature names, but PolynomialFeatures was fitted with feature names\n",
      "  warnings.warn(\n",
      "/Users/merveogretmek/anaconda3/lib/python3.10/site-packages/sklearn/base.py:420: UserWarning: X does not have valid feature names, but PolynomialFeatures was fitted with feature names\n",
      "  warnings.warn(\n",
      "/Users/merveogretmek/anaconda3/lib/python3.10/site-packages/sklearn/base.py:420: UserWarning: X does not have valid feature names, but PolynomialFeatures was fitted with feature names\n",
      "  warnings.warn(\n",
      "/Users/merveogretmek/anaconda3/lib/python3.10/site-packages/sklearn/base.py:420: UserWarning: X does not have valid feature names, but PolynomialFeatures was fitted with feature names\n",
      "  warnings.warn(\n",
      "/Users/merveogretmek/anaconda3/lib/python3.10/site-packages/sklearn/base.py:420: UserWarning: X does not have valid feature names, but PolynomialFeatures was fitted with feature names\n",
      "  warnings.warn(\n",
      "/Users/merveogretmek/anaconda3/lib/python3.10/site-packages/sklearn/base.py:420: UserWarning: X does not have valid feature names, but PolynomialFeatures was fitted with feature names\n",
      "  warnings.warn(\n",
      "/Users/merveogretmek/anaconda3/lib/python3.10/site-packages/sklearn/base.py:420: UserWarning: X does not have valid feature names, but PolynomialFeatures was fitted with feature names\n",
      "  warnings.warn(\n",
      "/Users/merveogretmek/anaconda3/lib/python3.10/site-packages/sklearn/base.py:420: UserWarning: X does not have valid feature names, but PolynomialFeatures was fitted with feature names\n",
      "  warnings.warn(\n",
      "/Users/merveogretmek/anaconda3/lib/python3.10/site-packages/sklearn/base.py:420: UserWarning: X does not have valid feature names, but PolynomialFeatures was fitted with feature names\n",
      "  warnings.warn(\n"
     ]
    }
   ],
   "source": [
    "import numpy as np\n",
    "\n",
    "# Choose a random data point from the test set\n",
    "data_point = x_test.iloc[0, :]\n",
    "\n",
    "# Save the original prediction\n",
    "original_prediction = model.predict(poly_features.transform(data_point.values.reshape(1, -1)))\n",
    "\n",
    "# Save the original value of \"educ\"\n",
    "original_educ = data_point[\"educ\"]\n",
    "\n",
    "# Create an array to hold the changes in \"educ\" and the corresponding changes in the prediction\n",
    "changes = []\n",
    "\n",
    "# Change \"educ\" by -10% to +10%\n",
    "for change in np.linspace(-0.10 * original_educ, 0.10 * original_educ, num=50):\n",
    "    data_point[\"educ\"] += change\n",
    "    new_prediction = model.predict(poly_features.transform(data_point.values.reshape(1, -1)))\n",
    "    prediction_change = new_prediction - original_prediction\n",
    "    changes.append((change, prediction_change))\n",
    "\n",
    "# Convert the results to a DataFrame for easier viewing\n",
    "sensitivity_df = pd.DataFrame(changes, columns=[\"Change in educ\", \"Change in Prediction\"])\n",
    "\n",
    "print(sensitivity_df)"
   ]
  },
  {
   "cell_type": "markdown",
   "id": "c64bc260",
   "metadata": {},
   "source": [
    "### IQ"
   ]
  },
  {
   "cell_type": "code",
   "execution_count": 24,
   "id": "9f830fad",
   "metadata": {},
   "outputs": [
    {
     "name": "stdout",
     "output_type": "stream",
     "text": [
      "    Change in IQ       Change in Prediction\n",
      "0     -10.700000      [-0.5476065791171365]\n",
      "1     -10.263265      [-1.0523590416030544]\n",
      "2      -9.826531      [-1.5095973904249398]\n",
      "3      -9.389796       [-1.916396702996856]\n",
      "4      -8.953061      [-2.2713666820448584]\n",
      "5      -8.516327        [-2.57446011532255]\n",
      "6      -8.079592       [-2.826790244177065]\n",
      "7      -7.642857       [-3.030457040965514]\n",
      "8      -7.206122      [-3.1883823953218373]\n",
      "9      -6.769388      [-3.3041542092741274]\n",
      "10     -6.332653       [-3.381879401212373]\n",
      "11     -5.895918      [-3.4260458187066485]\n",
      "12     -5.459184       [-3.441393060175743]\n",
      "13     -5.022449      [-3.4327922054062263]\n",
      "14     -4.585714      [-3.4051344549219573]\n",
      "15     -4.148980      [-3.3632286782040293]\n",
      "16     -3.712245       [-3.311707870761156]\n",
      "17     -3.275510      [-3.2549445200504996]\n",
      "18     -2.838776      [-3.1969748802489315]\n",
      "19     -2.402041        [-3.14143215587474]\n",
      "20     -1.965306      [-3.0914885942597685]\n",
      "21     -1.528571       [-3.049806486872007]\n",
      "22     -1.091837       [-3.018498079488607]\n",
      "23     -0.655102       [-2.999094391219348]\n",
      "24     -0.218367      [-2.9925229423805364]\n",
      "25      0.218367       [-2.999094391219348]\n",
      "26      0.655102       [-3.018498079488607]\n",
      "27      1.091837       [-3.049806486872007]\n",
      "28      1.528571      [-3.0914885942597685]\n",
      "29      1.965306        [-3.14143215587474]\n",
      "30      2.402041      [-3.1969748802489315]\n",
      "31      2.838776      [-3.2549445200504996]\n",
      "32      3.275510       [-3.311707870761156]\n",
      "33      3.712245      [-3.3632286782040284]\n",
      "34      4.148980      [-3.4051344549219573]\n",
      "35      4.585714      [-3.4327922054062263]\n",
      "36      5.022449       [-3.441393060175743]\n",
      "37      5.459184      [-3.4260458187066485]\n",
      "38      5.895918       [-3.381879401212373]\n",
      "39      6.332653      [-3.3041542092741274]\n",
      "40      6.769388      [-3.1883823953218373]\n",
      "41      7.206122      [-3.0304570409655147]\n",
      "42      7.642857       [-2.826790244177067]\n",
      "43      8.079592        [-2.57446011532255]\n",
      "44      8.516327        [-2.27136668204486]\n",
      "45      8.953061      [-1.9163967029968578]\n",
      "46      9.389796      [-1.5095973904249416]\n",
      "47      9.826531      [-1.0523590416030562]\n",
      "48     10.263265      [-0.5476065791171383]\n",
      "49     10.700000  [-1.7763568394002505e-15]\n"
     ]
    },
    {
     "name": "stderr",
     "output_type": "stream",
     "text": [
      "/Users/merveogretmek/anaconda3/lib/python3.10/site-packages/sklearn/base.py:420: UserWarning: X does not have valid feature names, but PolynomialFeatures was fitted with feature names\n",
      "  warnings.warn(\n",
      "/Users/merveogretmek/anaconda3/lib/python3.10/site-packages/sklearn/base.py:420: UserWarning: X does not have valid feature names, but PolynomialFeatures was fitted with feature names\n",
      "  warnings.warn(\n",
      "/Users/merveogretmek/anaconda3/lib/python3.10/site-packages/sklearn/base.py:420: UserWarning: X does not have valid feature names, but PolynomialFeatures was fitted with feature names\n",
      "  warnings.warn(\n",
      "/Users/merveogretmek/anaconda3/lib/python3.10/site-packages/sklearn/base.py:420: UserWarning: X does not have valid feature names, but PolynomialFeatures was fitted with feature names\n",
      "  warnings.warn(\n",
      "/Users/merveogretmek/anaconda3/lib/python3.10/site-packages/sklearn/base.py:420: UserWarning: X does not have valid feature names, but PolynomialFeatures was fitted with feature names\n",
      "  warnings.warn(\n",
      "/Users/merveogretmek/anaconda3/lib/python3.10/site-packages/sklearn/base.py:420: UserWarning: X does not have valid feature names, but PolynomialFeatures was fitted with feature names\n",
      "  warnings.warn(\n",
      "/Users/merveogretmek/anaconda3/lib/python3.10/site-packages/sklearn/base.py:420: UserWarning: X does not have valid feature names, but PolynomialFeatures was fitted with feature names\n",
      "  warnings.warn(\n",
      "/Users/merveogretmek/anaconda3/lib/python3.10/site-packages/sklearn/base.py:420: UserWarning: X does not have valid feature names, but PolynomialFeatures was fitted with feature names\n",
      "  warnings.warn(\n",
      "/Users/merveogretmek/anaconda3/lib/python3.10/site-packages/sklearn/base.py:420: UserWarning: X does not have valid feature names, but PolynomialFeatures was fitted with feature names\n",
      "  warnings.warn(\n",
      "/Users/merveogretmek/anaconda3/lib/python3.10/site-packages/sklearn/base.py:420: UserWarning: X does not have valid feature names, but PolynomialFeatures was fitted with feature names\n",
      "  warnings.warn(\n",
      "/Users/merveogretmek/anaconda3/lib/python3.10/site-packages/sklearn/base.py:420: UserWarning: X does not have valid feature names, but PolynomialFeatures was fitted with feature names\n",
      "  warnings.warn(\n",
      "/Users/merveogretmek/anaconda3/lib/python3.10/site-packages/sklearn/base.py:420: UserWarning: X does not have valid feature names, but PolynomialFeatures was fitted with feature names\n",
      "  warnings.warn(\n",
      "/Users/merveogretmek/anaconda3/lib/python3.10/site-packages/sklearn/base.py:420: UserWarning: X does not have valid feature names, but PolynomialFeatures was fitted with feature names\n",
      "  warnings.warn(\n",
      "/Users/merveogretmek/anaconda3/lib/python3.10/site-packages/sklearn/base.py:420: UserWarning: X does not have valid feature names, but PolynomialFeatures was fitted with feature names\n",
      "  warnings.warn(\n",
      "/Users/merveogretmek/anaconda3/lib/python3.10/site-packages/sklearn/base.py:420: UserWarning: X does not have valid feature names, but PolynomialFeatures was fitted with feature names\n",
      "  warnings.warn(\n",
      "/Users/merveogretmek/anaconda3/lib/python3.10/site-packages/sklearn/base.py:420: UserWarning: X does not have valid feature names, but PolynomialFeatures was fitted with feature names\n",
      "  warnings.warn(\n",
      "/Users/merveogretmek/anaconda3/lib/python3.10/site-packages/sklearn/base.py:420: UserWarning: X does not have valid feature names, but PolynomialFeatures was fitted with feature names\n",
      "  warnings.warn(\n",
      "/Users/merveogretmek/anaconda3/lib/python3.10/site-packages/sklearn/base.py:420: UserWarning: X does not have valid feature names, but PolynomialFeatures was fitted with feature names\n",
      "  warnings.warn(\n",
      "/Users/merveogretmek/anaconda3/lib/python3.10/site-packages/sklearn/base.py:420: UserWarning: X does not have valid feature names, but PolynomialFeatures was fitted with feature names\n",
      "  warnings.warn(\n",
      "/Users/merveogretmek/anaconda3/lib/python3.10/site-packages/sklearn/base.py:420: UserWarning: X does not have valid feature names, but PolynomialFeatures was fitted with feature names\n",
      "  warnings.warn(\n",
      "/Users/merveogretmek/anaconda3/lib/python3.10/site-packages/sklearn/base.py:420: UserWarning: X does not have valid feature names, but PolynomialFeatures was fitted with feature names\n",
      "  warnings.warn(\n",
      "/Users/merveogretmek/anaconda3/lib/python3.10/site-packages/sklearn/base.py:420: UserWarning: X does not have valid feature names, but PolynomialFeatures was fitted with feature names\n",
      "  warnings.warn(\n",
      "/Users/merveogretmek/anaconda3/lib/python3.10/site-packages/sklearn/base.py:420: UserWarning: X does not have valid feature names, but PolynomialFeatures was fitted with feature names\n",
      "  warnings.warn(\n",
      "/Users/merveogretmek/anaconda3/lib/python3.10/site-packages/sklearn/base.py:420: UserWarning: X does not have valid feature names, but PolynomialFeatures was fitted with feature names\n",
      "  warnings.warn(\n",
      "/Users/merveogretmek/anaconda3/lib/python3.10/site-packages/sklearn/base.py:420: UserWarning: X does not have valid feature names, but PolynomialFeatures was fitted with feature names\n",
      "  warnings.warn(\n",
      "/Users/merveogretmek/anaconda3/lib/python3.10/site-packages/sklearn/base.py:420: UserWarning: X does not have valid feature names, but PolynomialFeatures was fitted with feature names\n",
      "  warnings.warn(\n",
      "/Users/merveogretmek/anaconda3/lib/python3.10/site-packages/sklearn/base.py:420: UserWarning: X does not have valid feature names, but PolynomialFeatures was fitted with feature names\n",
      "  warnings.warn(\n",
      "/Users/merveogretmek/anaconda3/lib/python3.10/site-packages/sklearn/base.py:420: UserWarning: X does not have valid feature names, but PolynomialFeatures was fitted with feature names\n",
      "  warnings.warn(\n",
      "/Users/merveogretmek/anaconda3/lib/python3.10/site-packages/sklearn/base.py:420: UserWarning: X does not have valid feature names, but PolynomialFeatures was fitted with feature names\n",
      "  warnings.warn(\n",
      "/Users/merveogretmek/anaconda3/lib/python3.10/site-packages/sklearn/base.py:420: UserWarning: X does not have valid feature names, but PolynomialFeatures was fitted with feature names\n",
      "  warnings.warn(\n",
      "/Users/merveogretmek/anaconda3/lib/python3.10/site-packages/sklearn/base.py:420: UserWarning: X does not have valid feature names, but PolynomialFeatures was fitted with feature names\n",
      "  warnings.warn(\n",
      "/Users/merveogretmek/anaconda3/lib/python3.10/site-packages/sklearn/base.py:420: UserWarning: X does not have valid feature names, but PolynomialFeatures was fitted with feature names\n",
      "  warnings.warn(\n",
      "/Users/merveogretmek/anaconda3/lib/python3.10/site-packages/sklearn/base.py:420: UserWarning: X does not have valid feature names, but PolynomialFeatures was fitted with feature names\n",
      "  warnings.warn(\n",
      "/Users/merveogretmek/anaconda3/lib/python3.10/site-packages/sklearn/base.py:420: UserWarning: X does not have valid feature names, but PolynomialFeatures was fitted with feature names\n",
      "  warnings.warn(\n",
      "/Users/merveogretmek/anaconda3/lib/python3.10/site-packages/sklearn/base.py:420: UserWarning: X does not have valid feature names, but PolynomialFeatures was fitted with feature names\n",
      "  warnings.warn(\n",
      "/Users/merveogretmek/anaconda3/lib/python3.10/site-packages/sklearn/base.py:420: UserWarning: X does not have valid feature names, but PolynomialFeatures was fitted with feature names\n",
      "  warnings.warn(\n",
      "/Users/merveogretmek/anaconda3/lib/python3.10/site-packages/sklearn/base.py:420: UserWarning: X does not have valid feature names, but PolynomialFeatures was fitted with feature names\n",
      "  warnings.warn(\n",
      "/Users/merveogretmek/anaconda3/lib/python3.10/site-packages/sklearn/base.py:420: UserWarning: X does not have valid feature names, but PolynomialFeatures was fitted with feature names\n",
      "  warnings.warn(\n",
      "/Users/merveogretmek/anaconda3/lib/python3.10/site-packages/sklearn/base.py:420: UserWarning: X does not have valid feature names, but PolynomialFeatures was fitted with feature names\n",
      "  warnings.warn(\n",
      "/Users/merveogretmek/anaconda3/lib/python3.10/site-packages/sklearn/base.py:420: UserWarning: X does not have valid feature names, but PolynomialFeatures was fitted with feature names\n",
      "  warnings.warn(\n",
      "/Users/merveogretmek/anaconda3/lib/python3.10/site-packages/sklearn/base.py:420: UserWarning: X does not have valid feature names, but PolynomialFeatures was fitted with feature names\n",
      "  warnings.warn(\n",
      "/Users/merveogretmek/anaconda3/lib/python3.10/site-packages/sklearn/base.py:420: UserWarning: X does not have valid feature names, but PolynomialFeatures was fitted with feature names\n",
      "  warnings.warn(\n",
      "/Users/merveogretmek/anaconda3/lib/python3.10/site-packages/sklearn/base.py:420: UserWarning: X does not have valid feature names, but PolynomialFeatures was fitted with feature names\n",
      "  warnings.warn(\n",
      "/Users/merveogretmek/anaconda3/lib/python3.10/site-packages/sklearn/base.py:420: UserWarning: X does not have valid feature names, but PolynomialFeatures was fitted with feature names\n",
      "  warnings.warn(\n",
      "/Users/merveogretmek/anaconda3/lib/python3.10/site-packages/sklearn/base.py:420: UserWarning: X does not have valid feature names, but PolynomialFeatures was fitted with feature names\n",
      "  warnings.warn(\n",
      "/Users/merveogretmek/anaconda3/lib/python3.10/site-packages/sklearn/base.py:420: UserWarning: X does not have valid feature names, but PolynomialFeatures was fitted with feature names\n",
      "  warnings.warn(\n",
      "/Users/merveogretmek/anaconda3/lib/python3.10/site-packages/sklearn/base.py:420: UserWarning: X does not have valid feature names, but PolynomialFeatures was fitted with feature names\n",
      "  warnings.warn(\n",
      "/Users/merveogretmek/anaconda3/lib/python3.10/site-packages/sklearn/base.py:420: UserWarning: X does not have valid feature names, but PolynomialFeatures was fitted with feature names\n",
      "  warnings.warn(\n",
      "/Users/merveogretmek/anaconda3/lib/python3.10/site-packages/sklearn/base.py:420: UserWarning: X does not have valid feature names, but PolynomialFeatures was fitted with feature names\n",
      "  warnings.warn(\n",
      "/Users/merveogretmek/anaconda3/lib/python3.10/site-packages/sklearn/base.py:420: UserWarning: X does not have valid feature names, but PolynomialFeatures was fitted with feature names\n",
      "  warnings.warn(\n",
      "/Users/merveogretmek/anaconda3/lib/python3.10/site-packages/sklearn/base.py:420: UserWarning: X does not have valid feature names, but PolynomialFeatures was fitted with feature names\n",
      "  warnings.warn(\n"
     ]
    }
   ],
   "source": [
    "import numpy as np\n",
    "\n",
    "# Choose a random data point from the test set\n",
    "data_point = x_test.iloc[0, :]\n",
    "\n",
    "# Save the original prediction\n",
    "original_prediction = model.predict(poly_features.transform(data_point.values.reshape(1, -1)))\n",
    "\n",
    "# Save the original value of \"exper\"\n",
    "original_IQ = data_point[\"IQ\"]\n",
    "\n",
    "# Create an array to hold the changes in \"IQ\" and the corresponding changes in the prediction\n",
    "changes = []\n",
    "\n",
    "# Change \"IQ\" by -10% to +10%\n",
    "for change in np.linspace(-0.10 * original_IQ, 0.10 * original_IQ, num=50):\n",
    "    data_point[\"IQ\"] += change\n",
    "    new_prediction = model.predict(poly_features.transform(data_point.values.reshape(1, -1)))\n",
    "    prediction_change = new_prediction - original_prediction\n",
    "    changes.append((change, prediction_change))\n",
    "\n",
    "# Convert the results to a DataFrame for easier viewing\n",
    "sensitivity_df = pd.DataFrame(changes, columns=[\"Change in IQ\", \"Change in Prediction\"])\n",
    "\n",
    "print(sensitivity_df)"
   ]
  },
  {
   "cell_type": "markdown",
   "id": "ff8ef568",
   "metadata": {},
   "source": [
    "### Age"
   ]
  },
  {
   "cell_type": "code",
   "execution_count": 25,
   "id": "d2f7f232",
   "metadata": {},
   "outputs": [
    {
     "name": "stdout",
     "output_type": "stream",
     "text": [
      "    Change in Age   Change in Prediction\n",
      "0       -3.300000  [0.15345263792054098]\n",
      "1       -3.165306  [0.27407351778987277]\n",
      "2       -3.030612  [0.36753745696668183]\n",
      "3       -2.895918    [0.438776989257299]\n",
      "4       -2.761224   [0.4920476869108281]\n",
      "5       -2.626531   [0.5309905794144818]\n",
      "6       -2.491837   [0.5586916690891446]\n",
      "7       -2.357143   [0.5777385434851414]\n",
      "8       -2.222449   [0.5902740845782422]\n",
      "9       -2.087755   [0.5980472747658521]\n",
      "10      -1.953061    [0.602461099663449]\n",
      "11      -1.818367   [0.6046175477012206]\n",
      "12      -1.683673   [0.6053597065209271]\n",
      "13      -1.548980   [0.6053109561729659]\n",
      "14      -1.414286    [0.604911259113674]\n",
      "15      -1.279592   [0.6044505470028305]\n",
      "16      -1.144898   [0.6040992043013826]\n",
      "17      -1.010204   [0.6039356486693865]\n",
      "18      -0.875510   [0.6039710081641676]\n",
      "19      -0.740816   [0.6041708952386973]\n",
      "20      -0.606122   [0.6044742775401719]\n",
      "21      -0.471429   [0.6048094455088417]\n",
      "22      -0.336735    [0.605107076777017]\n",
      "23      -0.202041   [0.6053103973683225]\n",
      "24      -0.067347   [0.6053824396971468]\n",
      "25       0.067347   [0.6053103973683225]\n",
      "26       0.202041    [0.605107076777017]\n",
      "27       0.336735   [0.6048094455088417]\n",
      "28       0.471429   [0.6044742775401719]\n",
      "29       0.606122   [0.6041708952386973]\n",
      "30       0.740816   [0.6039710081641676]\n",
      "31       0.875510   [0.6039356486693865]\n",
      "32       1.010204   [0.6040992043013826]\n",
      "33       1.144898   [0.6044505470028305]\n",
      "34       1.279592    [0.604911259113674]\n",
      "35       1.414286   [0.6053109561729659]\n",
      "36       1.548980   [0.6053597065209271]\n",
      "37       1.683673   [0.6046175477012206]\n",
      "38       1.818367    [0.602461099663449]\n",
      "39       1.953061   [0.5980472747658521]\n",
      "40       2.087755   [0.5902740845782422]\n",
      "41       2.222449   [0.5777385434851414]\n",
      "42       2.357143   [0.5586916690891446]\n",
      "43       2.491837   [0.5309905794144818]\n",
      "44       2.626531   [0.4920476869108281]\n",
      "45       2.761224    [0.438776989257299]\n",
      "46       2.895918  [0.36753745696668183]\n",
      "47       3.030612  [0.27407351778987277]\n",
      "48       3.165306  [0.15345263792054098]\n",
      "49       3.300000                  [0.0]\n"
     ]
    },
    {
     "name": "stderr",
     "output_type": "stream",
     "text": [
      "/Users/merveogretmek/anaconda3/lib/python3.10/site-packages/sklearn/base.py:420: UserWarning: X does not have valid feature names, but PolynomialFeatures was fitted with feature names\n",
      "  warnings.warn(\n",
      "/Users/merveogretmek/anaconda3/lib/python3.10/site-packages/sklearn/base.py:420: UserWarning: X does not have valid feature names, but PolynomialFeatures was fitted with feature names\n",
      "  warnings.warn(\n",
      "/Users/merveogretmek/anaconda3/lib/python3.10/site-packages/sklearn/base.py:420: UserWarning: X does not have valid feature names, but PolynomialFeatures was fitted with feature names\n",
      "  warnings.warn(\n",
      "/Users/merveogretmek/anaconda3/lib/python3.10/site-packages/sklearn/base.py:420: UserWarning: X does not have valid feature names, but PolynomialFeatures was fitted with feature names\n",
      "  warnings.warn(\n",
      "/Users/merveogretmek/anaconda3/lib/python3.10/site-packages/sklearn/base.py:420: UserWarning: X does not have valid feature names, but PolynomialFeatures was fitted with feature names\n",
      "  warnings.warn(\n",
      "/Users/merveogretmek/anaconda3/lib/python3.10/site-packages/sklearn/base.py:420: UserWarning: X does not have valid feature names, but PolynomialFeatures was fitted with feature names\n",
      "  warnings.warn(\n",
      "/Users/merveogretmek/anaconda3/lib/python3.10/site-packages/sklearn/base.py:420: UserWarning: X does not have valid feature names, but PolynomialFeatures was fitted with feature names\n",
      "  warnings.warn(\n",
      "/Users/merveogretmek/anaconda3/lib/python3.10/site-packages/sklearn/base.py:420: UserWarning: X does not have valid feature names, but PolynomialFeatures was fitted with feature names\n",
      "  warnings.warn(\n",
      "/Users/merveogretmek/anaconda3/lib/python3.10/site-packages/sklearn/base.py:420: UserWarning: X does not have valid feature names, but PolynomialFeatures was fitted with feature names\n",
      "  warnings.warn(\n",
      "/Users/merveogretmek/anaconda3/lib/python3.10/site-packages/sklearn/base.py:420: UserWarning: X does not have valid feature names, but PolynomialFeatures was fitted with feature names\n",
      "  warnings.warn(\n",
      "/Users/merveogretmek/anaconda3/lib/python3.10/site-packages/sklearn/base.py:420: UserWarning: X does not have valid feature names, but PolynomialFeatures was fitted with feature names\n",
      "  warnings.warn(\n",
      "/Users/merveogretmek/anaconda3/lib/python3.10/site-packages/sklearn/base.py:420: UserWarning: X does not have valid feature names, but PolynomialFeatures was fitted with feature names\n",
      "  warnings.warn(\n",
      "/Users/merveogretmek/anaconda3/lib/python3.10/site-packages/sklearn/base.py:420: UserWarning: X does not have valid feature names, but PolynomialFeatures was fitted with feature names\n",
      "  warnings.warn(\n",
      "/Users/merveogretmek/anaconda3/lib/python3.10/site-packages/sklearn/base.py:420: UserWarning: X does not have valid feature names, but PolynomialFeatures was fitted with feature names\n",
      "  warnings.warn(\n",
      "/Users/merveogretmek/anaconda3/lib/python3.10/site-packages/sklearn/base.py:420: UserWarning: X does not have valid feature names, but PolynomialFeatures was fitted with feature names\n",
      "  warnings.warn(\n",
      "/Users/merveogretmek/anaconda3/lib/python3.10/site-packages/sklearn/base.py:420: UserWarning: X does not have valid feature names, but PolynomialFeatures was fitted with feature names\n",
      "  warnings.warn(\n",
      "/Users/merveogretmek/anaconda3/lib/python3.10/site-packages/sklearn/base.py:420: UserWarning: X does not have valid feature names, but PolynomialFeatures was fitted with feature names\n",
      "  warnings.warn(\n",
      "/Users/merveogretmek/anaconda3/lib/python3.10/site-packages/sklearn/base.py:420: UserWarning: X does not have valid feature names, but PolynomialFeatures was fitted with feature names\n",
      "  warnings.warn(\n",
      "/Users/merveogretmek/anaconda3/lib/python3.10/site-packages/sklearn/base.py:420: UserWarning: X does not have valid feature names, but PolynomialFeatures was fitted with feature names\n",
      "  warnings.warn(\n",
      "/Users/merveogretmek/anaconda3/lib/python3.10/site-packages/sklearn/base.py:420: UserWarning: X does not have valid feature names, but PolynomialFeatures was fitted with feature names\n",
      "  warnings.warn(\n",
      "/Users/merveogretmek/anaconda3/lib/python3.10/site-packages/sklearn/base.py:420: UserWarning: X does not have valid feature names, but PolynomialFeatures was fitted with feature names\n",
      "  warnings.warn(\n",
      "/Users/merveogretmek/anaconda3/lib/python3.10/site-packages/sklearn/base.py:420: UserWarning: X does not have valid feature names, but PolynomialFeatures was fitted with feature names\n",
      "  warnings.warn(\n",
      "/Users/merveogretmek/anaconda3/lib/python3.10/site-packages/sklearn/base.py:420: UserWarning: X does not have valid feature names, but PolynomialFeatures was fitted with feature names\n",
      "  warnings.warn(\n",
      "/Users/merveogretmek/anaconda3/lib/python3.10/site-packages/sklearn/base.py:420: UserWarning: X does not have valid feature names, but PolynomialFeatures was fitted with feature names\n",
      "  warnings.warn(\n",
      "/Users/merveogretmek/anaconda3/lib/python3.10/site-packages/sklearn/base.py:420: UserWarning: X does not have valid feature names, but PolynomialFeatures was fitted with feature names\n",
      "  warnings.warn(\n",
      "/Users/merveogretmek/anaconda3/lib/python3.10/site-packages/sklearn/base.py:420: UserWarning: X does not have valid feature names, but PolynomialFeatures was fitted with feature names\n",
      "  warnings.warn(\n",
      "/Users/merveogretmek/anaconda3/lib/python3.10/site-packages/sklearn/base.py:420: UserWarning: X does not have valid feature names, but PolynomialFeatures was fitted with feature names\n",
      "  warnings.warn(\n",
      "/Users/merveogretmek/anaconda3/lib/python3.10/site-packages/sklearn/base.py:420: UserWarning: X does not have valid feature names, but PolynomialFeatures was fitted with feature names\n",
      "  warnings.warn(\n",
      "/Users/merveogretmek/anaconda3/lib/python3.10/site-packages/sklearn/base.py:420: UserWarning: X does not have valid feature names, but PolynomialFeatures was fitted with feature names\n",
      "  warnings.warn(\n",
      "/Users/merveogretmek/anaconda3/lib/python3.10/site-packages/sklearn/base.py:420: UserWarning: X does not have valid feature names, but PolynomialFeatures was fitted with feature names\n",
      "  warnings.warn(\n",
      "/Users/merveogretmek/anaconda3/lib/python3.10/site-packages/sklearn/base.py:420: UserWarning: X does not have valid feature names, but PolynomialFeatures was fitted with feature names\n",
      "  warnings.warn(\n",
      "/Users/merveogretmek/anaconda3/lib/python3.10/site-packages/sklearn/base.py:420: UserWarning: X does not have valid feature names, but PolynomialFeatures was fitted with feature names\n",
      "  warnings.warn(\n",
      "/Users/merveogretmek/anaconda3/lib/python3.10/site-packages/sklearn/base.py:420: UserWarning: X does not have valid feature names, but PolynomialFeatures was fitted with feature names\n",
      "  warnings.warn(\n",
      "/Users/merveogretmek/anaconda3/lib/python3.10/site-packages/sklearn/base.py:420: UserWarning: X does not have valid feature names, but PolynomialFeatures was fitted with feature names\n",
      "  warnings.warn(\n",
      "/Users/merveogretmek/anaconda3/lib/python3.10/site-packages/sklearn/base.py:420: UserWarning: X does not have valid feature names, but PolynomialFeatures was fitted with feature names\n",
      "  warnings.warn(\n",
      "/Users/merveogretmek/anaconda3/lib/python3.10/site-packages/sklearn/base.py:420: UserWarning: X does not have valid feature names, but PolynomialFeatures was fitted with feature names\n",
      "  warnings.warn(\n",
      "/Users/merveogretmek/anaconda3/lib/python3.10/site-packages/sklearn/base.py:420: UserWarning: X does not have valid feature names, but PolynomialFeatures was fitted with feature names\n",
      "  warnings.warn(\n",
      "/Users/merveogretmek/anaconda3/lib/python3.10/site-packages/sklearn/base.py:420: UserWarning: X does not have valid feature names, but PolynomialFeatures was fitted with feature names\n",
      "  warnings.warn(\n",
      "/Users/merveogretmek/anaconda3/lib/python3.10/site-packages/sklearn/base.py:420: UserWarning: X does not have valid feature names, but PolynomialFeatures was fitted with feature names\n",
      "  warnings.warn(\n",
      "/Users/merveogretmek/anaconda3/lib/python3.10/site-packages/sklearn/base.py:420: UserWarning: X does not have valid feature names, but PolynomialFeatures was fitted with feature names\n",
      "  warnings.warn(\n",
      "/Users/merveogretmek/anaconda3/lib/python3.10/site-packages/sklearn/base.py:420: UserWarning: X does not have valid feature names, but PolynomialFeatures was fitted with feature names\n",
      "  warnings.warn(\n",
      "/Users/merveogretmek/anaconda3/lib/python3.10/site-packages/sklearn/base.py:420: UserWarning: X does not have valid feature names, but PolynomialFeatures was fitted with feature names\n",
      "  warnings.warn(\n",
      "/Users/merveogretmek/anaconda3/lib/python3.10/site-packages/sklearn/base.py:420: UserWarning: X does not have valid feature names, but PolynomialFeatures was fitted with feature names\n",
      "  warnings.warn(\n",
      "/Users/merveogretmek/anaconda3/lib/python3.10/site-packages/sklearn/base.py:420: UserWarning: X does not have valid feature names, but PolynomialFeatures was fitted with feature names\n",
      "  warnings.warn(\n",
      "/Users/merveogretmek/anaconda3/lib/python3.10/site-packages/sklearn/base.py:420: UserWarning: X does not have valid feature names, but PolynomialFeatures was fitted with feature names\n",
      "  warnings.warn(\n",
      "/Users/merveogretmek/anaconda3/lib/python3.10/site-packages/sklearn/base.py:420: UserWarning: X does not have valid feature names, but PolynomialFeatures was fitted with feature names\n",
      "  warnings.warn(\n",
      "/Users/merveogretmek/anaconda3/lib/python3.10/site-packages/sklearn/base.py:420: UserWarning: X does not have valid feature names, but PolynomialFeatures was fitted with feature names\n",
      "  warnings.warn(\n",
      "/Users/merveogretmek/anaconda3/lib/python3.10/site-packages/sklearn/base.py:420: UserWarning: X does not have valid feature names, but PolynomialFeatures was fitted with feature names\n",
      "  warnings.warn(\n",
      "/Users/merveogretmek/anaconda3/lib/python3.10/site-packages/sklearn/base.py:420: UserWarning: X does not have valid feature names, but PolynomialFeatures was fitted with feature names\n",
      "  warnings.warn(\n",
      "/Users/merveogretmek/anaconda3/lib/python3.10/site-packages/sklearn/base.py:420: UserWarning: X does not have valid feature names, but PolynomialFeatures was fitted with feature names\n",
      "  warnings.warn(\n",
      "/Users/merveogretmek/anaconda3/lib/python3.10/site-packages/sklearn/base.py:420: UserWarning: X does not have valid feature names, but PolynomialFeatures was fitted with feature names\n",
      "  warnings.warn(\n"
     ]
    }
   ],
   "source": [
    "import numpy as np\n",
    "\n",
    "# Choose a random data point from the test set\n",
    "data_point = x_test.iloc[0, :]\n",
    "\n",
    "# Save the original prediction\n",
    "original_prediction = model.predict(poly_features.transform(data_point.values.reshape(1, -1)))\n",
    "\n",
    "# Save the original value of \"age\"\n",
    "original_age = data_point[\"age\"]\n",
    "\n",
    "# Create an array to hold the changes in \"age\" and the corresponding changes in the prediction\n",
    "changes = []\n",
    "\n",
    "# Change \"age\" by -10% to +10%\n",
    "for change in np.linspace(-0.10 * original_age, 0.10 * original_age, num=50):\n",
    "    data_point[\"age\"] += change\n",
    "    new_prediction = model.predict(poly_features.transform(data_point.values.reshape(1, -1)))\n",
    "    prediction_change = new_prediction - original_prediction\n",
    "    changes.append((change, prediction_change))\n",
    "\n",
    "# Convert the results to a DataFrame for easier viewing\n",
    "sensitivity_df = pd.DataFrame(changes, columns=[\"Change in Age\", \"Change in Prediction\"])\n",
    "\n",
    "print(sensitivity_df)"
   ]
  },
  {
   "cell_type": "markdown",
   "id": "f9f0c2cf",
   "metadata": {},
   "source": [
    "### Sibs"
   ]
  },
  {
   "cell_type": "code",
   "execution_count": 26,
   "id": "9ea91134",
   "metadata": {},
   "outputs": [
    {
     "name": "stdout",
     "output_type": "stream",
     "text": [
      "    Change in Sibs   Change in Prediction\n",
      "0        -0.600000  [0.12381211697151251]\n",
      "1        -0.575510  [0.24257067814826705]\n",
      "2        -0.551020  [0.35627568353026895]\n",
      "3        -0.526531  [0.46492713311751466]\n",
      "4        -0.502041   [0.5685250269100042]\n",
      "5        -0.477551   [0.6670693649077375]\n",
      "6        -0.453061   [0.7605601471107164]\n",
      "7        -0.428571   [0.8489973735189391]\n",
      "8        -0.404082   [0.9323810441324074]\n",
      "9        -0.379592   [1.0107111589511195]\n",
      "10       -0.355102   [1.0839877179750754]\n",
      "11       -0.330612   [1.1522107212042751]\n",
      "12       -0.306122   [1.2153801686387204]\n",
      "13       -0.281633   [1.2734960602784096]\n",
      "14       -0.257143   [1.3265583961233443]\n",
      "15       -0.232653   [1.3745671761735228]\n",
      "16       -0.208163    [1.417522400428945]\n",
      "17       -0.183673   [1.4554240688896112]\n",
      "18       -0.159184   [1.4882721815555229]\n",
      "19       -0.134694   [1.5160667384266784]\n",
      "20       -0.110204   [1.5388077395030795]\n",
      "21       -0.085714   [1.5564951847847244]\n",
      "22       -0.061224    [1.569129074271613]\n",
      "23       -0.036735   [1.5767094079637456]\n",
      "24       -0.012245   [1.5792361858611237]\n",
      "25        0.012245   [1.5767094079637456]\n",
      "26        0.036735    [1.569129074271613]\n",
      "27        0.061224   [1.5564951847847244]\n",
      "28        0.085714   [1.5388077395030795]\n",
      "29        0.110204   [1.5160667384266784]\n",
      "30        0.134694   [1.4882721815555229]\n",
      "31        0.159184   [1.4554240688896112]\n",
      "32        0.183673    [1.417522400428945]\n",
      "33        0.208163   [1.3745671761735228]\n",
      "34        0.232653   [1.3265583961233443]\n",
      "35        0.257143   [1.2734960602784096]\n",
      "36        0.281633   [1.2153801686387204]\n",
      "37        0.306122   [1.1522107212042751]\n",
      "38        0.330612   [1.0839877179750754]\n",
      "39        0.355102   [1.0107111589511195]\n",
      "40        0.379592   [0.9323810441324074]\n",
      "41        0.404082   [0.8489973735189391]\n",
      "42        0.428571   [0.7605601471107164]\n",
      "43        0.453061   [0.6670693649077375]\n",
      "44        0.477551   [0.5685250269100042]\n",
      "45        0.502041  [0.46492713311751466]\n",
      "46        0.526531  [0.35627568353026895]\n",
      "47        0.551020  [0.24257067814826883]\n",
      "48        0.575510  [0.12381211697151251]\n",
      "49        0.600000                  [0.0]\n"
     ]
    },
    {
     "name": "stderr",
     "output_type": "stream",
     "text": [
      "/Users/merveogretmek/anaconda3/lib/python3.10/site-packages/sklearn/base.py:420: UserWarning: X does not have valid feature names, but PolynomialFeatures was fitted with feature names\n",
      "  warnings.warn(\n",
      "/Users/merveogretmek/anaconda3/lib/python3.10/site-packages/sklearn/base.py:420: UserWarning: X does not have valid feature names, but PolynomialFeatures was fitted with feature names\n",
      "  warnings.warn(\n",
      "/Users/merveogretmek/anaconda3/lib/python3.10/site-packages/sklearn/base.py:420: UserWarning: X does not have valid feature names, but PolynomialFeatures was fitted with feature names\n",
      "  warnings.warn(\n",
      "/Users/merveogretmek/anaconda3/lib/python3.10/site-packages/sklearn/base.py:420: UserWarning: X does not have valid feature names, but PolynomialFeatures was fitted with feature names\n",
      "  warnings.warn(\n",
      "/Users/merveogretmek/anaconda3/lib/python3.10/site-packages/sklearn/base.py:420: UserWarning: X does not have valid feature names, but PolynomialFeatures was fitted with feature names\n",
      "  warnings.warn(\n",
      "/Users/merveogretmek/anaconda3/lib/python3.10/site-packages/sklearn/base.py:420: UserWarning: X does not have valid feature names, but PolynomialFeatures was fitted with feature names\n",
      "  warnings.warn(\n",
      "/Users/merveogretmek/anaconda3/lib/python3.10/site-packages/sklearn/base.py:420: UserWarning: X does not have valid feature names, but PolynomialFeatures was fitted with feature names\n",
      "  warnings.warn(\n",
      "/Users/merveogretmek/anaconda3/lib/python3.10/site-packages/sklearn/base.py:420: UserWarning: X does not have valid feature names, but PolynomialFeatures was fitted with feature names\n",
      "  warnings.warn(\n",
      "/Users/merveogretmek/anaconda3/lib/python3.10/site-packages/sklearn/base.py:420: UserWarning: X does not have valid feature names, but PolynomialFeatures was fitted with feature names\n",
      "  warnings.warn(\n",
      "/Users/merveogretmek/anaconda3/lib/python3.10/site-packages/sklearn/base.py:420: UserWarning: X does not have valid feature names, but PolynomialFeatures was fitted with feature names\n",
      "  warnings.warn(\n",
      "/Users/merveogretmek/anaconda3/lib/python3.10/site-packages/sklearn/base.py:420: UserWarning: X does not have valid feature names, but PolynomialFeatures was fitted with feature names\n",
      "  warnings.warn(\n",
      "/Users/merveogretmek/anaconda3/lib/python3.10/site-packages/sklearn/base.py:420: UserWarning: X does not have valid feature names, but PolynomialFeatures was fitted with feature names\n",
      "  warnings.warn(\n",
      "/Users/merveogretmek/anaconda3/lib/python3.10/site-packages/sklearn/base.py:420: UserWarning: X does not have valid feature names, but PolynomialFeatures was fitted with feature names\n",
      "  warnings.warn(\n",
      "/Users/merveogretmek/anaconda3/lib/python3.10/site-packages/sklearn/base.py:420: UserWarning: X does not have valid feature names, but PolynomialFeatures was fitted with feature names\n",
      "  warnings.warn(\n",
      "/Users/merveogretmek/anaconda3/lib/python3.10/site-packages/sklearn/base.py:420: UserWarning: X does not have valid feature names, but PolynomialFeatures was fitted with feature names\n",
      "  warnings.warn(\n",
      "/Users/merveogretmek/anaconda3/lib/python3.10/site-packages/sklearn/base.py:420: UserWarning: X does not have valid feature names, but PolynomialFeatures was fitted with feature names\n",
      "  warnings.warn(\n",
      "/Users/merveogretmek/anaconda3/lib/python3.10/site-packages/sklearn/base.py:420: UserWarning: X does not have valid feature names, but PolynomialFeatures was fitted with feature names\n",
      "  warnings.warn(\n",
      "/Users/merveogretmek/anaconda3/lib/python3.10/site-packages/sklearn/base.py:420: UserWarning: X does not have valid feature names, but PolynomialFeatures was fitted with feature names\n",
      "  warnings.warn(\n",
      "/Users/merveogretmek/anaconda3/lib/python3.10/site-packages/sklearn/base.py:420: UserWarning: X does not have valid feature names, but PolynomialFeatures was fitted with feature names\n",
      "  warnings.warn(\n",
      "/Users/merveogretmek/anaconda3/lib/python3.10/site-packages/sklearn/base.py:420: UserWarning: X does not have valid feature names, but PolynomialFeatures was fitted with feature names\n",
      "  warnings.warn(\n",
      "/Users/merveogretmek/anaconda3/lib/python3.10/site-packages/sklearn/base.py:420: UserWarning: X does not have valid feature names, but PolynomialFeatures was fitted with feature names\n",
      "  warnings.warn(\n",
      "/Users/merveogretmek/anaconda3/lib/python3.10/site-packages/sklearn/base.py:420: UserWarning: X does not have valid feature names, but PolynomialFeatures was fitted with feature names\n",
      "  warnings.warn(\n",
      "/Users/merveogretmek/anaconda3/lib/python3.10/site-packages/sklearn/base.py:420: UserWarning: X does not have valid feature names, but PolynomialFeatures was fitted with feature names\n",
      "  warnings.warn(\n",
      "/Users/merveogretmek/anaconda3/lib/python3.10/site-packages/sklearn/base.py:420: UserWarning: X does not have valid feature names, but PolynomialFeatures was fitted with feature names\n",
      "  warnings.warn(\n",
      "/Users/merveogretmek/anaconda3/lib/python3.10/site-packages/sklearn/base.py:420: UserWarning: X does not have valid feature names, but PolynomialFeatures was fitted with feature names\n",
      "  warnings.warn(\n",
      "/Users/merveogretmek/anaconda3/lib/python3.10/site-packages/sklearn/base.py:420: UserWarning: X does not have valid feature names, but PolynomialFeatures was fitted with feature names\n",
      "  warnings.warn(\n",
      "/Users/merveogretmek/anaconda3/lib/python3.10/site-packages/sklearn/base.py:420: UserWarning: X does not have valid feature names, but PolynomialFeatures was fitted with feature names\n",
      "  warnings.warn(\n",
      "/Users/merveogretmek/anaconda3/lib/python3.10/site-packages/sklearn/base.py:420: UserWarning: X does not have valid feature names, but PolynomialFeatures was fitted with feature names\n",
      "  warnings.warn(\n",
      "/Users/merveogretmek/anaconda3/lib/python3.10/site-packages/sklearn/base.py:420: UserWarning: X does not have valid feature names, but PolynomialFeatures was fitted with feature names\n",
      "  warnings.warn(\n",
      "/Users/merveogretmek/anaconda3/lib/python3.10/site-packages/sklearn/base.py:420: UserWarning: X does not have valid feature names, but PolynomialFeatures was fitted with feature names\n",
      "  warnings.warn(\n",
      "/Users/merveogretmek/anaconda3/lib/python3.10/site-packages/sklearn/base.py:420: UserWarning: X does not have valid feature names, but PolynomialFeatures was fitted with feature names\n",
      "  warnings.warn(\n",
      "/Users/merveogretmek/anaconda3/lib/python3.10/site-packages/sklearn/base.py:420: UserWarning: X does not have valid feature names, but PolynomialFeatures was fitted with feature names\n",
      "  warnings.warn(\n",
      "/Users/merveogretmek/anaconda3/lib/python3.10/site-packages/sklearn/base.py:420: UserWarning: X does not have valid feature names, but PolynomialFeatures was fitted with feature names\n",
      "  warnings.warn(\n",
      "/Users/merveogretmek/anaconda3/lib/python3.10/site-packages/sklearn/base.py:420: UserWarning: X does not have valid feature names, but PolynomialFeatures was fitted with feature names\n",
      "  warnings.warn(\n",
      "/Users/merveogretmek/anaconda3/lib/python3.10/site-packages/sklearn/base.py:420: UserWarning: X does not have valid feature names, but PolynomialFeatures was fitted with feature names\n",
      "  warnings.warn(\n",
      "/Users/merveogretmek/anaconda3/lib/python3.10/site-packages/sklearn/base.py:420: UserWarning: X does not have valid feature names, but PolynomialFeatures was fitted with feature names\n",
      "  warnings.warn(\n",
      "/Users/merveogretmek/anaconda3/lib/python3.10/site-packages/sklearn/base.py:420: UserWarning: X does not have valid feature names, but PolynomialFeatures was fitted with feature names\n",
      "  warnings.warn(\n",
      "/Users/merveogretmek/anaconda3/lib/python3.10/site-packages/sklearn/base.py:420: UserWarning: X does not have valid feature names, but PolynomialFeatures was fitted with feature names\n",
      "  warnings.warn(\n",
      "/Users/merveogretmek/anaconda3/lib/python3.10/site-packages/sklearn/base.py:420: UserWarning: X does not have valid feature names, but PolynomialFeatures was fitted with feature names\n",
      "  warnings.warn(\n",
      "/Users/merveogretmek/anaconda3/lib/python3.10/site-packages/sklearn/base.py:420: UserWarning: X does not have valid feature names, but PolynomialFeatures was fitted with feature names\n",
      "  warnings.warn(\n",
      "/Users/merveogretmek/anaconda3/lib/python3.10/site-packages/sklearn/base.py:420: UserWarning: X does not have valid feature names, but PolynomialFeatures was fitted with feature names\n",
      "  warnings.warn(\n",
      "/Users/merveogretmek/anaconda3/lib/python3.10/site-packages/sklearn/base.py:420: UserWarning: X does not have valid feature names, but PolynomialFeatures was fitted with feature names\n",
      "  warnings.warn(\n",
      "/Users/merveogretmek/anaconda3/lib/python3.10/site-packages/sklearn/base.py:420: UserWarning: X does not have valid feature names, but PolynomialFeatures was fitted with feature names\n",
      "  warnings.warn(\n",
      "/Users/merveogretmek/anaconda3/lib/python3.10/site-packages/sklearn/base.py:420: UserWarning: X does not have valid feature names, but PolynomialFeatures was fitted with feature names\n",
      "  warnings.warn(\n",
      "/Users/merveogretmek/anaconda3/lib/python3.10/site-packages/sklearn/base.py:420: UserWarning: X does not have valid feature names, but PolynomialFeatures was fitted with feature names\n",
      "  warnings.warn(\n",
      "/Users/merveogretmek/anaconda3/lib/python3.10/site-packages/sklearn/base.py:420: UserWarning: X does not have valid feature names, but PolynomialFeatures was fitted with feature names\n",
      "  warnings.warn(\n",
      "/Users/merveogretmek/anaconda3/lib/python3.10/site-packages/sklearn/base.py:420: UserWarning: X does not have valid feature names, but PolynomialFeatures was fitted with feature names\n",
      "  warnings.warn(\n",
      "/Users/merveogretmek/anaconda3/lib/python3.10/site-packages/sklearn/base.py:420: UserWarning: X does not have valid feature names, but PolynomialFeatures was fitted with feature names\n",
      "  warnings.warn(\n",
      "/Users/merveogretmek/anaconda3/lib/python3.10/site-packages/sklearn/base.py:420: UserWarning: X does not have valid feature names, but PolynomialFeatures was fitted with feature names\n",
      "  warnings.warn(\n",
      "/Users/merveogretmek/anaconda3/lib/python3.10/site-packages/sklearn/base.py:420: UserWarning: X does not have valid feature names, but PolynomialFeatures was fitted with feature names\n",
      "  warnings.warn(\n",
      "/Users/merveogretmek/anaconda3/lib/python3.10/site-packages/sklearn/base.py:420: UserWarning: X does not have valid feature names, but PolynomialFeatures was fitted with feature names\n",
      "  warnings.warn(\n"
     ]
    }
   ],
   "source": [
    "import numpy as np\n",
    "\n",
    "# Choose a random data point from the test set\n",
    "data_point = x_test.iloc[0, :]\n",
    "\n",
    "# Save the original prediction\n",
    "original_prediction = model.predict(poly_features.transform(data_point.values.reshape(1, -1)))\n",
    "\n",
    "# Save the original value of \"sibs\"\n",
    "original_sibs = data_point[\"sibs\"]\n",
    "\n",
    "# Create an array to hold the changes in \"sibs\" and the corresponding changes in the prediction\n",
    "changes = []\n",
    "\n",
    "# Change \"sibs\" by -10% to +10%\n",
    "for change in np.linspace(-0.10 * original_sibs, 0.10 * original_sibs, num=50):\n",
    "    data_point[\"sibs\"] += change\n",
    "    new_prediction = model.predict(poly_features.transform(data_point.values.reshape(1, -1)))\n",
    "    prediction_change = new_prediction - original_prediction\n",
    "    changes.append((change, prediction_change))\n",
    "\n",
    "# Convert the results to a DataFrame for easier viewing\n",
    "sensitivity_df = pd.DataFrame(changes, columns=[\"Change in Sibs\", \"Change in Prediction\"])\n",
    "\n",
    "print(sensitivity_df)"
   ]
  },
  {
   "cell_type": "markdown",
   "id": "e6c79a28",
   "metadata": {},
   "source": [
    "### Married"
   ]
  },
  {
   "cell_type": "code",
   "execution_count": 27,
   "id": "16ec7dbb",
   "metadata": {},
   "outputs": [
    {
     "name": "stdout",
     "output_type": "stream",
     "text": [
      "   Change in Married Change in Prediction\n",
      "0                  0                [0.0]\n",
      "1                  1                [0.0]\n"
     ]
    },
    {
     "name": "stderr",
     "output_type": "stream",
     "text": [
      "/Users/merveogretmek/anaconda3/lib/python3.10/site-packages/sklearn/base.py:420: UserWarning: X does not have valid feature names, but PolynomialFeatures was fitted with feature names\n",
      "  warnings.warn(\n",
      "/Users/merveogretmek/anaconda3/lib/python3.10/site-packages/sklearn/base.py:420: UserWarning: X does not have valid feature names, but PolynomialFeatures was fitted with feature names\n",
      "  warnings.warn(\n",
      "/Users/merveogretmek/anaconda3/lib/python3.10/site-packages/sklearn/base.py:420: UserWarning: X does not have valid feature names, but PolynomialFeatures was fitted with feature names\n",
      "  warnings.warn(\n"
     ]
    }
   ],
   "source": [
    "import numpy as np\n",
    "\n",
    "# Choose a random data point from the test set\n",
    "data_point = x_test.iloc[0, :]\n",
    "\n",
    "# Save the original prediction\n",
    "original_prediction = model.predict(poly_features.transform(data_point.values.reshape(1, -1)))\n",
    "\n",
    "# Save the original value of \"married\"\n",
    "original_married = data_point[\"married\"]\n",
    "\n",
    "# Create an array to hold the changes in \"married\" and the corresponding changes in the prediction\n",
    "changes = []\n",
    "\n",
    "# Change \"married\" from 0 to 1\n",
    "for change in [0, 1]:\n",
    "    data_point[\"married\"] = change\n",
    "    new_prediction = model.predict(poly_features.transform(data_point.values.reshape(1, -1)))\n",
    "    prediction_change = new_prediction - original_prediction\n",
    "    changes.append((change, prediction_change))\n",
    "\n",
    "# Convert the results to a DataFrame for easier viewing\n",
    "sensitivity_df = pd.DataFrame(changes, columns=[\"Change in Married\", \"Change in Prediction\"])\n",
    "\n",
    "print(sensitivity_df)\n"
   ]
  },
  {
   "cell_type": "markdown",
   "id": "9b3e0b4b",
   "metadata": {},
   "source": [
    "### Female"
   ]
  },
  {
   "cell_type": "code",
   "execution_count": 28,
   "id": "1e90e998",
   "metadata": {},
   "outputs": [
    {
     "name": "stdout",
     "output_type": "stream",
     "text": [
      "   Change in Female   Change in Prediction\n",
      "0                 0                  [0.0]\n",
      "1                 1  [0.06674138104101068]\n"
     ]
    },
    {
     "name": "stderr",
     "output_type": "stream",
     "text": [
      "/Users/merveogretmek/anaconda3/lib/python3.10/site-packages/sklearn/base.py:420: UserWarning: X does not have valid feature names, but PolynomialFeatures was fitted with feature names\n",
      "  warnings.warn(\n",
      "/Users/merveogretmek/anaconda3/lib/python3.10/site-packages/sklearn/base.py:420: UserWarning: X does not have valid feature names, but PolynomialFeatures was fitted with feature names\n",
      "  warnings.warn(\n",
      "/Users/merveogretmek/anaconda3/lib/python3.10/site-packages/sklearn/base.py:420: UserWarning: X does not have valid feature names, but PolynomialFeatures was fitted with feature names\n",
      "  warnings.warn(\n"
     ]
    }
   ],
   "source": [
    "import numpy as np\n",
    "\n",
    "# Choose a random data point from the test set\n",
    "data_point = x_test.iloc[0, :]\n",
    "\n",
    "# Save the original prediction\n",
    "original_prediction = model.predict(poly_features.transform(data_point.values.reshape(1, -1)))\n",
    "\n",
    "# Save the original value of \"female\"\n",
    "original_female = data_point[\"female\"]\n",
    "\n",
    "# Create an array to hold the changes in \"female\" and the corresponding changes in the prediction\n",
    "changes = []\n",
    "\n",
    "# Change \"female\" from 0 to 1\n",
    "for change in [0, 1]:\n",
    "    data_point[\"female\"] = change\n",
    "    new_prediction = model.predict(poly_features.transform(data_point.values.reshape(1, -1)))\n",
    "    prediction_change = new_prediction - original_prediction\n",
    "    changes.append((change, prediction_change))\n",
    "\n",
    "# Convert the results to a DataFrame for easier viewing\n",
    "sensitivity_df = pd.DataFrame(changes, columns=[\"Change in Female\", \"Change in Prediction\"])\n",
    "\n",
    "print(sensitivity_df)\n"
   ]
  },
  {
   "cell_type": "markdown",
   "id": "42d39db8",
   "metadata": {},
   "source": [
    "### Black"
   ]
  },
  {
   "cell_type": "code",
   "execution_count": 29,
   "id": "51c5d918",
   "metadata": {},
   "outputs": [
    {
     "name": "stdout",
     "output_type": "stream",
     "text": [
      "   Change in Black     Change in Prediction\n",
      "0                0                    [0.0]\n",
      "1                1  [-0.016575236384170466]\n"
     ]
    },
    {
     "name": "stderr",
     "output_type": "stream",
     "text": [
      "/Users/merveogretmek/anaconda3/lib/python3.10/site-packages/sklearn/base.py:420: UserWarning: X does not have valid feature names, but PolynomialFeatures was fitted with feature names\n",
      "  warnings.warn(\n",
      "/Users/merveogretmek/anaconda3/lib/python3.10/site-packages/sklearn/base.py:420: UserWarning: X does not have valid feature names, but PolynomialFeatures was fitted with feature names\n",
      "  warnings.warn(\n",
      "/Users/merveogretmek/anaconda3/lib/python3.10/site-packages/sklearn/base.py:420: UserWarning: X does not have valid feature names, but PolynomialFeatures was fitted with feature names\n",
      "  warnings.warn(\n"
     ]
    }
   ],
   "source": [
    "import numpy as np\n",
    "\n",
    "# Choose a random data point from the test set\n",
    "data_point = x_test.iloc[0, :]\n",
    "\n",
    "# Save the original prediction\n",
    "original_prediction = model.predict(poly_features.transform(data_point.values.reshape(1, -1)))\n",
    "\n",
    "# Save the original value of \"black\"\n",
    "original_black = data_point[\"black\"]\n",
    "\n",
    "# Create an array to hold the changes in \"black\" and the corresponding changes in the prediction\n",
    "changes = []\n",
    "\n",
    "# Change \"black\" from 0 to 1\n",
    "for change in [0, 1]:\n",
    "    data_point[\"black\"] = change\n",
    "    new_prediction = model.predict(poly_features.transform(data_point.values.reshape(1, -1)))\n",
    "    prediction_change = new_prediction - original_prediction\n",
    "    changes.append((change, prediction_change))\n",
    "\n",
    "# Convert the results to a DataFrame for easier viewing\n",
    "sensitivity_df = pd.DataFrame(changes, columns=[\"Change in Black\", \"Change in Prediction\"])\n",
    "\n",
    "print(sensitivity_df)\n"
   ]
  },
  {
   "cell_type": "markdown",
   "id": "d0178835",
   "metadata": {},
   "source": [
    "### South"
   ]
  },
  {
   "cell_type": "code",
   "execution_count": 30,
   "id": "bdc2ca44",
   "metadata": {},
   "outputs": [
    {
     "name": "stdout",
     "output_type": "stream",
     "text": [
      "   Change in South   Change in Prediction\n",
      "0                0                  [0.0]\n",
      "1                1  [-0.5759755579174755]\n"
     ]
    },
    {
     "name": "stderr",
     "output_type": "stream",
     "text": [
      "/Users/merveogretmek/anaconda3/lib/python3.10/site-packages/sklearn/base.py:420: UserWarning: X does not have valid feature names, but PolynomialFeatures was fitted with feature names\n",
      "  warnings.warn(\n",
      "/Users/merveogretmek/anaconda3/lib/python3.10/site-packages/sklearn/base.py:420: UserWarning: X does not have valid feature names, but PolynomialFeatures was fitted with feature names\n",
      "  warnings.warn(\n",
      "/Users/merveogretmek/anaconda3/lib/python3.10/site-packages/sklearn/base.py:420: UserWarning: X does not have valid feature names, but PolynomialFeatures was fitted with feature names\n",
      "  warnings.warn(\n"
     ]
    }
   ],
   "source": [
    "import numpy as np\n",
    "\n",
    "# Choose a random data point from the test set\n",
    "data_point = x_test.iloc[0, :]\n",
    "\n",
    "# Save the original prediction\n",
    "original_prediction = model.predict(poly_features.transform(data_point.values.reshape(1, -1)))\n",
    "\n",
    "# Save the original value of \"south\"\n",
    "original_south = data_point[\"south\"]\n",
    "\n",
    "# Create an array to hold the changes in \"south\" and the corresponding changes in the prediction\n",
    "changes = []\n",
    "\n",
    "# Change \"south\" from 0 to 1\n",
    "for change in [0, 1]:\n",
    "    data_point[\"south\"] = change\n",
    "    new_prediction = model.predict(poly_features.transform(data_point.values.reshape(1, -1)))\n",
    "    prediction_change = new_prediction - original_prediction\n",
    "    changes.append((change, prediction_change))\n",
    "\n",
    "# Convert the results to a DataFrame for easier viewing\n",
    "sensitivity_df = pd.DataFrame(changes, columns=[\"Change in South\", \"Change in Prediction\"])\n",
    "\n",
    "print(sensitivity_df)\n"
   ]
  },
  {
   "cell_type": "markdown",
   "id": "941b389b",
   "metadata": {},
   "source": [
    "### Urban"
   ]
  },
  {
   "cell_type": "code",
   "execution_count": 31,
   "id": "cc2cba4f",
   "metadata": {},
   "outputs": [
    {
     "name": "stdout",
     "output_type": "stream",
     "text": [
      "   Change in Urban   Change in Prediction\n",
      "0                0  [-0.3282041113210763]\n",
      "1                1                  [0.0]\n"
     ]
    },
    {
     "name": "stderr",
     "output_type": "stream",
     "text": [
      "/Users/merveogretmek/anaconda3/lib/python3.10/site-packages/sklearn/base.py:420: UserWarning: X does not have valid feature names, but PolynomialFeatures was fitted with feature names\n",
      "  warnings.warn(\n",
      "/Users/merveogretmek/anaconda3/lib/python3.10/site-packages/sklearn/base.py:420: UserWarning: X does not have valid feature names, but PolynomialFeatures was fitted with feature names\n",
      "  warnings.warn(\n",
      "/Users/merveogretmek/anaconda3/lib/python3.10/site-packages/sklearn/base.py:420: UserWarning: X does not have valid feature names, but PolynomialFeatures was fitted with feature names\n",
      "  warnings.warn(\n"
     ]
    }
   ],
   "source": [
    "import numpy as np\n",
    "\n",
    "# Choose a random data point from the test set\n",
    "data_point = x_test.iloc[0, :]\n",
    "\n",
    "# Save the original prediction\n",
    "original_prediction = model.predict(poly_features.transform(data_point.values.reshape(1, -1)))\n",
    "\n",
    "# Save the original value of \"urban\"\n",
    "original_urban = data_point[\"urban\"]\n",
    "\n",
    "# Create an array to hold the changes in \"urban\" and the corresponding changes in the prediction\n",
    "changes = []\n",
    "\n",
    "# Change \"urban\" from 0 to 1\n",
    "for change in [0, 1]:\n",
    "    data_point[\"urban\"] = change\n",
    "    new_prediction = model.predict(poly_features.transform(data_point.values.reshape(1, -1)))\n",
    "    prediction_change = new_prediction - original_prediction\n",
    "    changes.append((change, prediction_change))\n",
    "\n",
    "# Convert the results to a DataFrame for easier viewing\n",
    "sensitivity_df = pd.DataFrame(changes, columns=[\"Change in Urban\", \"Change in Prediction\"])\n",
    "\n",
    "print(sensitivity_df)\n"
   ]
  }
 ],
 "metadata": {
  "kernelspec": {
   "display_name": "Python 3 (ipykernel)",
   "language": "python",
   "name": "python3"
  },
  "language_info": {
   "codemirror_mode": {
    "name": "ipython",
    "version": 3
   },
   "file_extension": ".py",
   "mimetype": "text/x-python",
   "name": "python",
   "nbconvert_exporter": "python",
   "pygments_lexer": "ipython3",
   "version": "3.10.9"
  }
 },
 "nbformat": 4,
 "nbformat_minor": 5
}
