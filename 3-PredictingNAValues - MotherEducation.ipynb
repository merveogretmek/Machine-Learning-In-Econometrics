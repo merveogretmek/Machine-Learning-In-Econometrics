{
 "cells": [
  {
   "cell_type": "code",
   "execution_count": 1,
   "id": "fb27bbaa",
   "metadata": {},
   "outputs": [],
   "source": [
    "# Run this notebook after running Father's education"
   ]
  },
  {
   "cell_type": "code",
   "execution_count": 2,
   "id": "a9ebc0d4",
   "metadata": {},
   "outputs": [],
   "source": [
    "# Libraries\n",
    "import pandas as pd\n",
    "import numpy as np\n",
    "\n",
    "import warnings\n",
    "warnings.filterwarnings('ignore')\n"
   ]
  },
  {
   "cell_type": "code",
   "execution_count": 3,
   "id": "f3ecaa33",
   "metadata": {},
   "outputs": [],
   "source": [
    "# Read the data\n",
    "df = pd.read_csv('feduc.csv')"
   ]
  },
  {
   "cell_type": "code",
   "execution_count": 4,
   "id": "f9f3eefc",
   "metadata": {
    "scrolled": true
   },
   "outputs": [
    {
     "name": "stdout",
     "output_type": "stream",
     "text": [
      "id           0\n",
      "year         0\n",
      "wage         0\n",
      "hours        0\n",
      "emp          0\n",
      "treat        0\n",
      "female       0\n",
      "IQ           0\n",
      "KWW          0\n",
      "educ         0\n",
      "exper        0\n",
      "tenure       0\n",
      "age          0\n",
      "married      0\n",
      "black        0\n",
      "south        0\n",
      "urban        0\n",
      "sibs         0\n",
      "brthord    188\n",
      "meduc      174\n",
      "feduc        0\n",
      "dtype: int64\n"
     ]
    }
   ],
   "source": [
    "# Number of missing values per column\n",
    "print(df.isnull().sum())"
   ]
  },
  {
   "cell_type": "markdown",
   "id": "beecee0e",
   "metadata": {},
   "source": [
    "## Prediction"
   ]
  },
  {
   "cell_type": "code",
   "execution_count": 5,
   "id": "1036eeac",
   "metadata": {},
   "outputs": [],
   "source": [
    "new_df = df.dropna(subset=['meduc'])"
   ]
  },
  {
   "cell_type": "markdown",
   "id": "18b5d763",
   "metadata": {},
   "source": [
    "## OLS"
   ]
  },
  {
   "cell_type": "markdown",
   "id": "43c78f0b",
   "metadata": {},
   "source": [
    "### Moderate Dimension"
   ]
  },
  {
   "cell_type": "code",
   "execution_count": 6,
   "id": "c869f1e6",
   "metadata": {},
   "outputs": [
    {
     "name": "stdout",
     "output_type": "stream",
     "text": [
      "In-sample R2: 0.20528694798300728\n",
      "In-sample MSE: 6.609652426089354\n",
      "Out-of-sample R2: 0.167104547499779\n",
      "Out-of-sample MSE: 5.502003789534541\n"
     ]
    }
   ],
   "source": [
    "import pandas as pd\n",
    "from sklearn.model_selection import train_test_split\n",
    "from sklearn.linear_model import LinearRegression\n",
    "from sklearn.metrics import r2_score, mean_squared_error\n",
    "\n",
    "# Seperate independent and dependent variables\n",
    "x_meduc = new_df[[\"educ\", \"IQ\", \"age\", \"married\", \"female\", \"black\", \"south\", \"urban\", \"sibs\"]]\n",
    "y_meduc = new_df[['meduc']]\n",
    "\n",
    "# Split the data into training and testing sets\n",
    "x_train, x_test, y_train, y_test = train_test_split(x_meduc, y_meduc, test_size=0.2, random_state=42)\n",
    "\n",
    "# Create a Linear Regression model\n",
    "model = LinearRegression()\n",
    "\n",
    "# Fit the model using the training data\n",
    "model.fit(x_train, y_train)\n",
    "\n",
    "# Predict the target variable for the training and testing data\n",
    "y_train_pred = model.predict(x_train)\n",
    "y_test_pred = model.predict(x_test)\n",
    "\n",
    "# Calculate in-sample R2 and MSE\n",
    "in_sample_r2 = r2_score(y_train, y_train_pred)\n",
    "in_sample_mse = mean_squared_error(y_train, y_train_pred)\n",
    "\n",
    "# Calculate out-of-sample R2 and MSE\n",
    "out_of_sample_r2 = r2_score(y_test, y_test_pred)\n",
    "out_of_sample_mse = mean_squared_error(y_test, y_test_pred)\n",
    "\n",
    "print(\"In-sample R2:\", in_sample_r2)\n",
    "print(\"In-sample MSE:\", in_sample_mse)\n",
    "print(\"Out-of-sample R2:\", out_of_sample_r2)\n",
    "print(\"Out-of-sample MSE:\", out_of_sample_mse)"
   ]
  },
  {
   "cell_type": "markdown",
   "id": "0cc57c21",
   "metadata": {},
   "source": [
    "### High Dimension (up to degree 3)"
   ]
  },
  {
   "cell_type": "code",
   "execution_count": 7,
   "id": "7fe72048",
   "metadata": {},
   "outputs": [
    {
     "name": "stdout",
     "output_type": "stream",
     "text": [
      "In-sample R2 with polynomial features: 0.36187948267491377\n",
      "In-sample MSE with polynomial features: 5.307267591453833\n",
      "Out-of-sample R2 with polynomial features: 0.20306552523742427\n",
      "Out-of-sample MSE with polynomial features: 5.264450042309779\n"
     ]
    }
   ],
   "source": [
    "import pandas as pd\n",
    "from sklearn.model_selection import train_test_split\n",
    "from sklearn.linear_model import LinearRegression\n",
    "from sklearn.preprocessing import PolynomialFeatures\n",
    "from sklearn.metrics import r2_score, mean_squared_error\n",
    "\n",
    "# Seperate independent and dependent variables\n",
    "x_meduc = new_df[[\"educ\", \"IQ\", \"age\", \"married\", \"female\", \"black\", \"south\", \"urban\", \"sibs\"]]\n",
    "y_meduc = new_df[['meduc']]\n",
    "\n",
    "# Split the data into training and testing sets\n",
    "x_train, x_test, y_train, y_test = train_test_split(x_meduc, y_meduc, test_size=0.2, random_state=42)\n",
    "\n",
    "# Create polynomial features including all possible interactions up to degree 3\n",
    "poly_features = PolynomialFeatures(degree=3, include_bias=False)\n",
    "x_train_poly = poly_features.fit_transform(x_train)\n",
    "x_test_poly = poly_features.transform(x_test)\n",
    "\n",
    "# Create a Linear Regression model\n",
    "model = LinearRegression()\n",
    "\n",
    "# Fit the model using the training data with polynomial features\n",
    "model.fit(x_train_poly, y_train)\n",
    "\n",
    "# Predict the target variable for the training and testing data with polynomial features\n",
    "y_train_pred = model.predict(x_train_poly)\n",
    "y_test_pred = model.predict(x_test_poly)\n",
    "\n",
    "# Calculate in-sample R2 and MSE with polynomial features\n",
    "in_sample_r2 = r2_score(y_train, y_train_pred)\n",
    "in_sample_mse = mean_squared_error(y_train, y_train_pred)\n",
    "\n",
    "# Calculate out-of-sample R2 and MSE with polynomial features\n",
    "out_of_sample_r2 = r2_score(y_test, y_test_pred)\n",
    "out_of_sample_mse = mean_squared_error(y_test, y_test_pred)\n",
    "\n",
    "print(\"In-sample R2 with polynomial features:\", in_sample_r2)\n",
    "print(\"In-sample MSE with polynomial features:\", in_sample_mse)\n",
    "print(\"Out-of-sample R2 with polynomial features:\", out_of_sample_r2)\n",
    "print(\"Out-of-sample MSE with polynomial features:\", out_of_sample_mse)"
   ]
  },
  {
   "cell_type": "markdown",
   "id": "93d6cd0d",
   "metadata": {},
   "source": [
    "## LASSO (alpha=0.1)"
   ]
  },
  {
   "cell_type": "markdown",
   "id": "a9f2dcfd",
   "metadata": {},
   "source": [
    "### Moderate Dimension"
   ]
  },
  {
   "cell_type": "code",
   "execution_count": 8,
   "id": "7e1128d3",
   "metadata": {},
   "outputs": [
    {
     "name": "stdout",
     "output_type": "stream",
     "text": [
      "In-sample R2: 0.19048442875117377\n",
      "In-sample MSE: 6.732765425057477\n",
      "Out-of-sample R2: 0.16092773009271388\n",
      "Out-of-sample MSE: 5.542807077244802\n"
     ]
    }
   ],
   "source": [
    "import pandas as pd\n",
    "from sklearn.model_selection import train_test_split\n",
    "from sklearn.linear_model import Lasso\n",
    "from sklearn.metrics import r2_score, mean_squared_error\n",
    "\n",
    "# Seperate independent and dependent variables\n",
    "x_meduc = new_df[[\"educ\", \"IQ\", \"age\", \"married\", \"female\", \"black\", \"south\", \"urban\", \"sibs\"]]\n",
    "y_meduc = new_df[['meduc']]\n",
    "\n",
    "# Split the data into training and testing sets\n",
    "x_train, x_test, y_train, y_test = train_test_split(x_meduc, y_meduc, test_size=0.2, random_state=42)\n",
    "\n",
    "# Create a LASSO model\n",
    "model = Lasso(alpha = 0.1)\n",
    "\n",
    "# Fit the model using the training data\n",
    "model.fit(x_train, y_train)\n",
    "\n",
    "# Predict the target variable for the training and testing data\n",
    "y_train_pred = model.predict(x_train)\n",
    "y_test_pred = model.predict(x_test)\n",
    "\n",
    "# Calculate in-sample R2 and MSE\n",
    "in_sample_r2 = r2_score(y_train, y_train_pred)\n",
    "in_sample_mse = mean_squared_error(y_train, y_train_pred)\n",
    "\n",
    "# Calculate out-of-sample R2 and MSE\n",
    "out_of_sample_r2 = r2_score(y_test, y_test_pred)\n",
    "out_of_sample_mse = mean_squared_error(y_test, y_test_pred)\n",
    "\n",
    "print(\"In-sample R2:\", in_sample_r2)\n",
    "print(\"In-sample MSE:\", in_sample_mse)\n",
    "print(\"Out-of-sample R2:\", out_of_sample_r2)\n",
    "print(\"Out-of-sample MSE:\", out_of_sample_mse)"
   ]
  },
  {
   "cell_type": "markdown",
   "id": "440330ff",
   "metadata": {},
   "source": [
    "### High Dimension (up to degree 3)"
   ]
  },
  {
   "cell_type": "code",
   "execution_count": 9,
   "id": "ff19dbdb",
   "metadata": {},
   "outputs": [
    {
     "name": "stdout",
     "output_type": "stream",
     "text": [
      "In-sample R2 with polynomial features: 0.29974030753206005\n",
      "In-sample MSE with polynomial features: 5.82408098554085\n",
      "Out-of-sample R2 with polynomial features: 0.18892774550608626\n",
      "Out-of-sample MSE with polynomial features: 5.357842457196814\n"
     ]
    }
   ],
   "source": [
    "import pandas as pd\n",
    "from sklearn.model_selection import train_test_split\n",
    "from sklearn.linear_model import Lasso\n",
    "from sklearn.preprocessing import PolynomialFeatures\n",
    "from sklearn.metrics import r2_score, mean_squared_error\n",
    "\n",
    "# Seperate independent and dependent variables\n",
    "x_meduc = new_df[[\"educ\", \"IQ\", \"age\", \"married\", \"female\", \"black\", \"south\", \"urban\", \"sibs\"]]\n",
    "y_meduc = new_df[['meduc']]\n",
    "\n",
    "# Split the data into training and testing sets\n",
    "x_train, x_test, y_train, y_test = train_test_split(x_meduc, y_meduc, test_size=0.2, random_state=42)\n",
    "\n",
    "# Create polynomial features including all possible interactions up to degree 3\n",
    "poly_features = PolynomialFeatures(degree=3, include_bias=False)\n",
    "x_train_poly = poly_features.fit_transform(x_train)\n",
    "x_test_poly = poly_features.transform(x_test)\n",
    "\n",
    "# Create a LASSO model\n",
    "model = Lasso(alpha=0.1, max_iter=100000)\n",
    "\n",
    "# Fit the model using the training data with polynomial features\n",
    "model.fit(x_train_poly, y_train)\n",
    "\n",
    "# Predict the target variable for the training and testing data with polynomial features\n",
    "y_train_pred = model.predict(x_train_poly)\n",
    "y_test_pred = model.predict(x_test_poly)\n",
    "\n",
    "# Calculate in-sample R2 and MSE with polynomial features\n",
    "in_sample_r2 = r2_score(y_train, y_train_pred)\n",
    "in_sample_mse = mean_squared_error(y_train, y_train_pred)\n",
    "\n",
    "# Calculate out-of-sample R2 and MSE with polynomial features\n",
    "out_of_sample_r2 = r2_score(y_test, y_test_pred)\n",
    "out_of_sample_mse = mean_squared_error(y_test, y_test_pred)\n",
    "\n",
    "print(\"In-sample R2 with polynomial features:\", in_sample_r2)\n",
    "print(\"In-sample MSE with polynomial features:\", in_sample_mse)\n",
    "print(\"Out-of-sample R2 with polynomial features:\", out_of_sample_r2)\n",
    "print(\"Out-of-sample MSE with polynomial features:\", out_of_sample_mse)"
   ]
  },
  {
   "cell_type": "markdown",
   "id": "3653dc44",
   "metadata": {},
   "source": [
    "## LASSO (Scaled)"
   ]
  },
  {
   "cell_type": "markdown",
   "id": "19688ad1",
   "metadata": {},
   "source": [
    "### Moderate Dimension"
   ]
  },
  {
   "cell_type": "code",
   "execution_count": 10,
   "id": "ea2c818b",
   "metadata": {},
   "outputs": [
    {
     "name": "stdout",
     "output_type": "stream",
     "text": [
      "In-sample R2 (LASSO with scaled features): 0.19848609234194303\n",
      "In-sample MSE (LASSO with scaled features): 6.666215347603423\n",
      "Out-of-sample R2 (LASSO with scaled features): 0.1785994129941575\n",
      "Out-of-sample MSE (LASSO with scaled features): 5.426070137453227\n"
     ]
    }
   ],
   "source": [
    "import pandas as pd\n",
    "from sklearn.model_selection import train_test_split\n",
    "from sklearn.preprocessing import StandardScaler\n",
    "from sklearn.linear_model import Lasso\n",
    "from sklearn.metrics import r2_score, mean_squared_error\n",
    "\n",
    "# Seperate independent and dependent variables\n",
    "x_meduc = new_df[[\"educ\", \"IQ\", \"age\", \"married\", \"female\", \"black\", \"south\", \"urban\", \"sibs\"]]\n",
    "y_meduc = new_df[['meduc']]\n",
    "\n",
    "# Split the data into training and testing sets\n",
    "x_train, x_test, y_train, y_test = train_test_split(x_meduc, y_meduc, test_size=0.2, random_state=42)\n",
    "\n",
    "# Create a StandardScaler object and fit it to the training data\n",
    "scaler = StandardScaler()\n",
    "x_train_scaled = scaler.fit_transform(x_train)\n",
    "x_test_scaled = scaler.transform(x_test)\n",
    "\n",
    "# Create a LASSO Regression model\n",
    "model = Lasso(alpha=0.1)  # Adjust the alpha value for regularization strength\n",
    "\n",
    "# Fit the model using the scaled training data\n",
    "model.fit(x_train_scaled, y_train)\n",
    "\n",
    "# Predict the target variable for the training and testing data\n",
    "y_train_pred = model.predict(x_train_scaled)\n",
    "y_test_pred = model.predict(x_test_scaled)\n",
    "\n",
    "# Calculate in-sample R2 and MSE\n",
    "in_sample_r2 = r2_score(y_train, y_train_pred)\n",
    "in_sample_mse = mean_squared_error(y_train, y_train_pred)\n",
    "\n",
    "# Calculate out-of-sample R2 and MSE\n",
    "out_of_sample_r2 = r2_score(y_test, y_test_pred)\n",
    "out_of_sample_mse = mean_squared_error(y_test, y_test_pred)\n",
    "\n",
    "print(\"In-sample R2 (LASSO with scaled features):\", in_sample_r2)\n",
    "print(\"In-sample MSE (LASSO with scaled features):\", in_sample_mse)\n",
    "print(\"Out-of-sample R2 (LASSO with scaled features):\", out_of_sample_r2)\n",
    "print(\"Out-of-sample MSE (LASSO with scaled features):\", out_of_sample_mse)"
   ]
  },
  {
   "cell_type": "markdown",
   "id": "102f7115",
   "metadata": {},
   "source": [
    "### High Dimension (up to degree 3)"
   ]
  },
  {
   "cell_type": "code",
   "execution_count": 11,
   "id": "c6777746",
   "metadata": {},
   "outputs": [
    {
     "name": "stdout",
     "output_type": "stream",
     "text": [
      "In-sample R2 (LASSO with scaled features and interactions): 0.22671537345433157\n",
      "In-sample MSE (LASSO with scaled features and interactions): 6.431431565057383\n",
      "Out-of-sample R2 (LASSO with scaled features and interactions): 0.1995674093358163\n",
      "Out-of-sample MSE (LASSO with scaled features and interactions): 5.287558160968732\n"
     ]
    }
   ],
   "source": [
    "import pandas as pd\n",
    "from sklearn.model_selection import train_test_split\n",
    "from sklearn.preprocessing import PolynomialFeatures, StandardScaler\n",
    "from sklearn.linear_model import Lasso\n",
    "from sklearn.metrics import r2_score, mean_squared_error\n",
    "\n",
    "# Seperate independent and dependent variables\n",
    "x_meduc = new_df[[\"educ\", \"IQ\", \"age\", \"married\", \"female\", \"black\", \"south\", \"urban\", \"sibs\"]]\n",
    "y_meduc = new_df[['meduc']]\n",
    "\n",
    "# Split the data into training and testing sets\n",
    "x_train, x_test, y_train, y_test = train_test_split(x_meduc, y_meduc, test_size=0.2, random_state=42)\n",
    "\n",
    "# Create polynomial features including all possible interactions up to degree 3\n",
    "poly_features = PolynomialFeatures(degree=3, include_bias=False)\n",
    "x_train_poly = poly_features.fit_transform(x_train)\n",
    "x_test_poly = poly_features.transform(x_test)\n",
    "\n",
    "# Create a StandardScaler object and fit it to the training data\n",
    "scaler = StandardScaler()\n",
    "x_train_scaled = scaler.fit_transform(x_train_poly)\n",
    "x_test_scaled = scaler.transform(x_test_poly)\n",
    "\n",
    "# Create a LASSO Regression model\n",
    "model = Lasso(alpha=0.1)  # Adjust the alpha value for regularization strength\n",
    "\n",
    "# Fit the model using the scaled training data\n",
    "model.fit(x_train_scaled, y_train)\n",
    "\n",
    "# Predict the target variable for the training and testing data\n",
    "y_train_pred = model.predict(x_train_scaled)\n",
    "y_test_pred = model.predict(x_test_scaled)\n",
    "\n",
    "# Calculate in-sample R2 and MSE\n",
    "in_sample_r2 = r2_score(y_train, y_train_pred)\n",
    "in_sample_mse = mean_squared_error(y_train, y_train_pred)\n",
    "\n",
    "# Calculate out-of-sample R2 and MSE\n",
    "out_of_sample_r2 = r2_score(y_test, y_test_pred)\n",
    "out_of_sample_mse = mean_squared_error(y_test, y_test_pred)\n",
    "\n",
    "print(\"In-sample R2 (LASSO with scaled features and interactions):\", in_sample_r2)\n",
    "print(\"In-sample MSE (LASSO with scaled features and interactions):\", in_sample_mse)\n",
    "print(\"Out-of-sample R2 (LASSO with scaled features and interactions):\", out_of_sample_r2)\n",
    "print(\"Out-of-sample MSE (LASSO with scaled features and interactions):\", out_of_sample_mse)"
   ]
  },
  {
   "cell_type": "markdown",
   "id": "e75d1ff2",
   "metadata": {},
   "source": [
    "## LASSO (Cross-Validated)"
   ]
  },
  {
   "cell_type": "markdown",
   "id": "fe596cc4",
   "metadata": {},
   "source": [
    "### Moderate Dimension"
   ]
  },
  {
   "cell_type": "code",
   "execution_count": 12,
   "id": "0e60ca34",
   "metadata": {},
   "outputs": [
    {
     "name": "stdout",
     "output_type": "stream",
     "text": [
      "In-sample R2 (LASSO with alpha tuning): 0.2043532219504881\n",
      "In-sample MSE (LASSO with alpha tuning): 6.617418253667597\n",
      "Out-of-sample R2 (LASSO with alpha tuning): 0.17099477833284005\n",
      "Out-of-sample MSE (LASSO with alpha tuning): 5.476305408397491\n"
     ]
    }
   ],
   "source": [
    "import pandas as pd\n",
    "from sklearn.model_selection import train_test_split\n",
    "from sklearn.linear_model import LassoCV\n",
    "from sklearn.metrics import r2_score, mean_squared_error\n",
    "\n",
    "# Seperate independent and dependent variables\n",
    "x_meduc = new_df[[\"educ\", \"IQ\", \"age\", \"married\", \"female\", \"black\", \"south\", \"urban\", \"sibs\"]]\n",
    "y_meduc = new_df[['meduc']]\n",
    "\n",
    "# Split the data into training and testing sets\n",
    "x_train, x_test, y_train, y_test = train_test_split(x_meduc, y_meduc, test_size=0.2, random_state=42)\n",
    "\n",
    "# Create a LASSO Regression model with cross-validated alpha tuning\n",
    "model = LassoCV(cv=5)  # Adjust cv parameter for the number of cross-validation folds\n",
    "\n",
    "# Fit the model using the training data\n",
    "model.fit(x_train, y_train)\n",
    "\n",
    "# Predict the target variable for the training and testing data\n",
    "y_train_pred = model.predict(x_train)\n",
    "y_test_pred = model.predict(x_test)\n",
    "\n",
    "# Calculate in-sample R2 and MSE\n",
    "in_sample_r2 = r2_score(y_train, y_train_pred)\n",
    "in_sample_mse = mean_squared_error(y_train, y_train_pred)\n",
    "\n",
    "# Calculate out-of-sample R2 and MSE\n",
    "out_of_sample_r2 = r2_score(y_test, y_test_pred)\n",
    "out_of_sample_mse = mean_squared_error(y_test, y_test_pred)\n",
    "\n",
    "print(\"In-sample R2 (LASSO with alpha tuning):\", in_sample_r2)\n",
    "print(\"In-sample MSE (LASSO with alpha tuning):\", in_sample_mse)\n",
    "print(\"Out-of-sample R2 (LASSO with alpha tuning):\", out_of_sample_r2)\n",
    "print(\"Out-of-sample MSE (LASSO with alpha tuning):\", out_of_sample_mse)"
   ]
  },
  {
   "cell_type": "markdown",
   "id": "5a7f1c29",
   "metadata": {},
   "source": [
    "### High Dimension (up to degree 3)"
   ]
  },
  {
   "cell_type": "code",
   "execution_count": 13,
   "id": "ad6c786d",
   "metadata": {},
   "outputs": [
    {
     "name": "stdout",
     "output_type": "stream",
     "text": [
      "In-sample R2 (LASSO with scaled features and interactions): 0.3190153309313797\n",
      "In-sample MSE (LASSO with scaled features and interactions): 5.663770034498967\n",
      "Out-of-sample R2 (LASSO with scaled features and interactions): 0.23477548050829078\n",
      "Out-of-sample MSE (LASSO with scaled features and interactions): 5.054978020890341\n"
     ]
    }
   ],
   "source": [
    "import pandas as pd\n",
    "from sklearn.model_selection import train_test_split\n",
    "from sklearn.preprocessing import PolynomialFeatures, StandardScaler\n",
    "from sklearn.linear_model import LassoCV\n",
    "from sklearn.metrics import r2_score, mean_squared_error\n",
    "\n",
    "# Seperate independent and dependent variables\n",
    "x_meduc = new_df[[\"educ\", \"IQ\", \"age\", \"married\", \"female\", \"black\", \"south\", \"urban\", \"sibs\"]]\n",
    "y_meduc = new_df[['meduc']]\n",
    "\n",
    "# Split the data into training and testing sets\n",
    "x_train, x_test, y_train, y_test = train_test_split(x_meduc, y_meduc, test_size=0.2, random_state=42)\n",
    "\n",
    "# Create polynomial features including all possible interactions up to degree 3\n",
    "poly_features = PolynomialFeatures(degree=3, include_bias=False)\n",
    "x_train_poly = poly_features.fit_transform(x_train)\n",
    "x_test_poly = poly_features.transform(x_test)\n",
    "\n",
    "# Create a StandardScaler object and fit it to the training data\n",
    "scaler = StandardScaler()\n",
    "x_train_scaled = scaler.fit_transform(x_train_poly)\n",
    "x_test_scaled = scaler.transform(x_test_poly)\n",
    "\n",
    "# Create a LASSO Regression model with cross-validated alpha tuning\n",
    "model = LassoCV(cv=5, max_iter=100000)  # Adjust cv parameter for the number of cross-validation folds\n",
    "\n",
    "# Fit the model using the scaled training data\n",
    "model.fit(x_train_scaled, y_train)\n",
    "\n",
    "# Predict the target variable for the training and testing data\n",
    "y_train_pred = model.predict(x_train_scaled)\n",
    "y_test_pred = model.predict(x_test_scaled)\n",
    "\n",
    "# Calculate in-sample R2 and MSE\n",
    "in_sample_r2 = r2_score(y_train, y_train_pred)\n",
    "in_sample_mse = mean_squared_error(y_train, y_train_pred)\n",
    "\n",
    "# Calculate out-of-sample R2 and MSE\n",
    "out_of_sample_r2 = r2_score(y_test, y_test_pred)\n",
    "out_of_sample_mse = mean_squared_error(y_test, y_test_pred)\n",
    "\n",
    "print(\"In-sample R2 (LASSO with scaled features and interactions):\", in_sample_r2)\n",
    "print(\"In-sample MSE (LASSO with scaled features and interactions):\", in_sample_mse)\n",
    "print(\"Out-of-sample R2 (LASSO with scaled features and interactions):\", out_of_sample_r2)\n",
    "print(\"Out-of-sample MSE (LASSO with scaled features and interactions):\", out_of_sample_mse)"
   ]
  },
  {
   "cell_type": "markdown",
   "id": "a88ab5b2",
   "metadata": {},
   "source": [
    "## Post LASSO"
   ]
  },
  {
   "cell_type": "markdown",
   "id": "606eda24",
   "metadata": {},
   "source": [
    "### Moderate Dimension"
   ]
  },
  {
   "cell_type": "code",
   "execution_count": 14,
   "id": "6f0e495c",
   "metadata": {},
   "outputs": [
    {
     "name": "stdout",
     "output_type": "stream",
     "text": [
      "In-sample R2 (Post-LASSO): 0.20484148502184363\n",
      "In-sample MSE (Post-LASSO): 6.613357354974711\n",
      "Out-of-sample R2 (Post-LASSO): 0.16970080228091966\n",
      "Out-of-sample MSE (Post-LASSO): 5.484853253291903\n"
     ]
    }
   ],
   "source": [
    "import pandas as pd\n",
    "from sklearn.model_selection import train_test_split\n",
    "from sklearn.preprocessing import StandardScaler\n",
    "from sklearn.linear_model import LassoCV\n",
    "import statsmodels.api as sm\n",
    "from sklearn.metrics import r2_score, mean_squared_error\n",
    "\n",
    "# Seperate independent and dependent variables\n",
    "x_meduc = new_df[[\"educ\", \"IQ\", \"age\", \"married\", \"female\", \"black\", \"south\", \"urban\", \"sibs\"]]\n",
    "y_meduc = new_df[['meduc']]\n",
    "\n",
    "# Split the data into training and testing sets\n",
    "x_train, x_test, y_train, y_test = train_test_split(x_meduc, y_meduc, test_size=0.2, random_state=42)\n",
    "\n",
    "# Create a StandardScaler object and fit it to the training data\n",
    "scaler = StandardScaler()\n",
    "x_train_scaled = scaler.fit_transform(x_train)\n",
    "x_test_scaled = scaler.transform(x_test)\n",
    "\n",
    "# Create a LASSO Regression model with cross-validated alpha tuning\n",
    "model = LassoCV(cv=5)  # Adjust cv parameter for the number of cross-validation folds\n",
    "\n",
    "# Fit the model using the scaled training data\n",
    "model.fit(x_train_scaled, y_train)\n",
    "\n",
    "# Perform post-LASSO inference\n",
    "X_train_scaled_with_intercept = sm.add_constant(x_train_scaled)\n",
    "model_sm = sm.OLS(y_train, X_train_scaled_with_intercept)\n",
    "results = model_sm.fit_regularized(alpha=model.alpha_, L1_wt=1)\n",
    "\n",
    "# Predict the target variable for the training and testing data\n",
    "X_test_scaled_with_intercept = sm.add_constant(x_test_scaled)\n",
    "y_train_pred = results.predict(X_train_scaled_with_intercept)\n",
    "y_test_pred = results.predict(X_test_scaled_with_intercept)\n",
    "\n",
    "# Calculate in-sample R2 and MSE\n",
    "in_sample_r2 = r2_score(y_train, y_train_pred)\n",
    "in_sample_mse = mean_squared_error(y_train, y_train_pred)\n",
    "\n",
    "# Calculate out-of-sample R2 and MSE\n",
    "out_of_sample_r2 = r2_score(y_test, y_test_pred)\n",
    "out_of_sample_mse = mean_squared_error(y_test, y_test_pred)\n",
    "\n",
    "print(\"In-sample R2 (Post-LASSO):\", in_sample_r2)\n",
    "print(\"In-sample MSE (Post-LASSO):\", in_sample_mse)\n",
    "print(\"Out-of-sample R2 (Post-LASSO):\", out_of_sample_r2)\n",
    "print(\"Out-of-sample MSE (Post-LASSO):\", out_of_sample_mse)"
   ]
  },
  {
   "cell_type": "markdown",
   "id": "dd7ccd9a",
   "metadata": {},
   "source": [
    "### High Dimension (up to degree 3)"
   ]
  },
  {
   "cell_type": "code",
   "execution_count": 15,
   "id": "be575ac3",
   "metadata": {},
   "outputs": [
    {
     "name": "stdout",
     "output_type": "stream",
     "text": [
      "In-sample R2 (Post-LASSO with interactions): 0.2894445516862353\n",
      "In-sample MSE (Post-LASSO with interactions): 5.909711097481335\n",
      "Out-of-sample R2 (Post-LASSO with interactions): 0.23882083754267924\n",
      "Out-of-sample MSE (Post-LASSO with interactions): 5.0282548953571045\n"
     ]
    }
   ],
   "source": [
    "import pandas as pd\n",
    "from sklearn.model_selection import train_test_split\n",
    "from sklearn.preprocessing import PolynomialFeatures, StandardScaler\n",
    "from sklearn.linear_model import LassoCV\n",
    "import statsmodels.api as sm\n",
    "from sklearn.metrics import r2_score, mean_squared_error\n",
    "\n",
    "# Seperate independent and dependent variables\n",
    "x_meduc = new_df[[\"educ\", \"IQ\", \"age\", \"married\", \"female\", \"black\", \"south\", \"urban\", \"sibs\"]]\n",
    "y_meduc = new_df[['meduc']]\n",
    "\n",
    "# Split the data into training and testing sets\n",
    "x_train, x_test, y_train, y_test = train_test_split(x_meduc, y_meduc, test_size=0.2, random_state=42)\n",
    "\n",
    "# Create polynomial features including all possible interactions up to degree 3\n",
    "poly_features = PolynomialFeatures(degree=3, include_bias=False)\n",
    "x_train_poly = poly_features.fit_transform(x_train)\n",
    "x_test_poly = poly_features.transform(x_test)\n",
    "\n",
    "# Create a StandardScaler object and fit it to the training data with polynomial features\n",
    "scaler = StandardScaler()\n",
    "x_train_scaled = scaler.fit_transform(x_train_poly)\n",
    "x_test_scaled = scaler.transform(x_test_poly)\n",
    "\n",
    "# Create a LASSO Regression model with cross-validated alpha tuning\n",
    "model = LassoCV(cv=5, max_iter=100000)  # Adjust cv parameter for the number of cross-validation folds\n",
    "\n",
    "# Fit the model using the scaled training data\n",
    "model.fit(x_train_scaled, y_train)\n",
    "\n",
    "# Perform post-LASSO inference\n",
    "X_train_scaled_with_intercept = sm.add_constant(x_train_scaled)\n",
    "model_sm = sm.OLS(y_train, X_train_scaled_with_intercept)\n",
    "results = model_sm.fit_regularized(alpha=model.alpha_, L1_wt=1)\n",
    "\n",
    "# Predict the target variable for the training and testing data\n",
    "X_test_scaled_with_intercept = sm.add_constant(x_test_scaled)\n",
    "y_train_pred = results.predict(X_train_scaled_with_intercept)\n",
    "y_test_pred = results.predict(X_test_scaled_with_intercept)\n",
    "\n",
    "# Calculate in-sample R2 and MSE\n",
    "in_sample_r2 = r2_score(y_train, y_train_pred)\n",
    "in_sample_mse = mean_squared_error(y_train, y_train_pred)\n",
    "\n",
    "# Calculate out-of-sample R2 and MSE\n",
    "out_of_sample_r2 = r2_score(y_test, y_test_pred)\n",
    "out_of_sample_mse = mean_squared_error(y_test, y_test_pred)\n",
    "\n",
    "print(\"In-sample R2 (Post-LASSO with interactions):\", in_sample_r2)\n",
    "print(\"In-sample MSE (Post-LASSO with interactions):\", in_sample_mse)\n",
    "print(\"Out-of-sample R2 (Post-LASSO with interactions):\", out_of_sample_r2)\n",
    "print(\"Out-of-sample MSE (Post-LASSO with interactions):\", out_of_sample_mse)"
   ]
  },
  {
   "cell_type": "markdown",
   "id": "43481506",
   "metadata": {},
   "source": [
    "## Prediction"
   ]
  },
  {
   "cell_type": "markdown",
   "id": "884f72bb",
   "metadata": {},
   "source": [
    "#### Best Performing Model is LASSO (Cross-Validated) with High Dimension up to degree 3"
   ]
  },
  {
   "cell_type": "code",
   "execution_count": 16,
   "id": "82df1919",
   "metadata": {},
   "outputs": [
    {
     "data": {
      "text/html": [
       "<style>#sk-container-id-1 {color: black;background-color: white;}#sk-container-id-1 pre{padding: 0;}#sk-container-id-1 div.sk-toggleable {background-color: white;}#sk-container-id-1 label.sk-toggleable__label {cursor: pointer;display: block;width: 100%;margin-bottom: 0;padding: 0.3em;box-sizing: border-box;text-align: center;}#sk-container-id-1 label.sk-toggleable__label-arrow:before {content: \"▸\";float: left;margin-right: 0.25em;color: #696969;}#sk-container-id-1 label.sk-toggleable__label-arrow:hover:before {color: black;}#sk-container-id-1 div.sk-estimator:hover label.sk-toggleable__label-arrow:before {color: black;}#sk-container-id-1 div.sk-toggleable__content {max-height: 0;max-width: 0;overflow: hidden;text-align: left;background-color: #f0f8ff;}#sk-container-id-1 div.sk-toggleable__content pre {margin: 0.2em;color: black;border-radius: 0.25em;background-color: #f0f8ff;}#sk-container-id-1 input.sk-toggleable__control:checked~div.sk-toggleable__content {max-height: 200px;max-width: 100%;overflow: auto;}#sk-container-id-1 input.sk-toggleable__control:checked~label.sk-toggleable__label-arrow:before {content: \"▾\";}#sk-container-id-1 div.sk-estimator input.sk-toggleable__control:checked~label.sk-toggleable__label {background-color: #d4ebff;}#sk-container-id-1 div.sk-label input.sk-toggleable__control:checked~label.sk-toggleable__label {background-color: #d4ebff;}#sk-container-id-1 input.sk-hidden--visually {border: 0;clip: rect(1px 1px 1px 1px);clip: rect(1px, 1px, 1px, 1px);height: 1px;margin: -1px;overflow: hidden;padding: 0;position: absolute;width: 1px;}#sk-container-id-1 div.sk-estimator {font-family: monospace;background-color: #f0f8ff;border: 1px dotted black;border-radius: 0.25em;box-sizing: border-box;margin-bottom: 0.5em;}#sk-container-id-1 div.sk-estimator:hover {background-color: #d4ebff;}#sk-container-id-1 div.sk-parallel-item::after {content: \"\";width: 100%;border-bottom: 1px solid gray;flex-grow: 1;}#sk-container-id-1 div.sk-label:hover label.sk-toggleable__label {background-color: #d4ebff;}#sk-container-id-1 div.sk-serial::before {content: \"\";position: absolute;border-left: 1px solid gray;box-sizing: border-box;top: 0;bottom: 0;left: 50%;z-index: 0;}#sk-container-id-1 div.sk-serial {display: flex;flex-direction: column;align-items: center;background-color: white;padding-right: 0.2em;padding-left: 0.2em;position: relative;}#sk-container-id-1 div.sk-item {position: relative;z-index: 1;}#sk-container-id-1 div.sk-parallel {display: flex;align-items: stretch;justify-content: center;background-color: white;position: relative;}#sk-container-id-1 div.sk-item::before, #sk-container-id-1 div.sk-parallel-item::before {content: \"\";position: absolute;border-left: 1px solid gray;box-sizing: border-box;top: 0;bottom: 0;left: 50%;z-index: -1;}#sk-container-id-1 div.sk-parallel-item {display: flex;flex-direction: column;z-index: 1;position: relative;background-color: white;}#sk-container-id-1 div.sk-parallel-item:first-child::after {align-self: flex-end;width: 50%;}#sk-container-id-1 div.sk-parallel-item:last-child::after {align-self: flex-start;width: 50%;}#sk-container-id-1 div.sk-parallel-item:only-child::after {width: 0;}#sk-container-id-1 div.sk-dashed-wrapped {border: 1px dashed gray;margin: 0 0.4em 0.5em 0.4em;box-sizing: border-box;padding-bottom: 0.4em;background-color: white;}#sk-container-id-1 div.sk-label label {font-family: monospace;font-weight: bold;display: inline-block;line-height: 1.2em;}#sk-container-id-1 div.sk-label-container {text-align: center;}#sk-container-id-1 div.sk-container {/* jupyter's `normalize.less` sets `[hidden] { display: none; }` but bootstrap.min.css set `[hidden] { display: none !important; }` so we also need the `!important` here to be able to override the default hidden behavior on the sphinx rendered scikit-learn.org. See: https://github.com/scikit-learn/scikit-learn/issues/21755 */display: inline-block !important;position: relative;}#sk-container-id-1 div.sk-text-repr-fallback {display: none;}</style><div id=\"sk-container-id-1\" class=\"sk-top-container\"><div class=\"sk-text-repr-fallback\"><pre>LassoCV(cv=5, max_iter=100000)</pre><b>In a Jupyter environment, please rerun this cell to show the HTML representation or trust the notebook. <br />On GitHub, the HTML representation is unable to render, please try loading this page with nbviewer.org.</b></div><div class=\"sk-container\" hidden><div class=\"sk-item\"><div class=\"sk-estimator sk-toggleable\"><input class=\"sk-toggleable__control sk-hidden--visually\" id=\"sk-estimator-id-1\" type=\"checkbox\" checked><label for=\"sk-estimator-id-1\" class=\"sk-toggleable__label sk-toggleable__label-arrow\">LassoCV</label><div class=\"sk-toggleable__content\"><pre>LassoCV(cv=5, max_iter=100000)</pre></div></div></div></div></div>"
      ],
      "text/plain": [
       "LassoCV(cv=5, max_iter=100000)"
      ]
     },
     "execution_count": 16,
     "metadata": {},
     "output_type": "execute_result"
    }
   ],
   "source": [
    "import pandas as pd\n",
    "from sklearn.model_selection import train_test_split\n",
    "from sklearn.preprocessing import PolynomialFeatures, StandardScaler\n",
    "from sklearn.linear_model import LassoCV\n",
    "import statsmodels.api as sm\n",
    "from sklearn.metrics import r2_score, mean_squared_error\n",
    "\n",
    "# Seperate independent and dependent variables\n",
    "x_meduc = new_df[[\"educ\", \"IQ\", \"age\", \"married\", \"female\", \"black\", \"south\", \"urban\", \"sibs\"]]\n",
    "y_meduc = new_df[['meduc']]\n",
    "\n",
    "# Split the data into training and testing sets\n",
    "x_train, x_test, y_train, y_test = train_test_split(x_meduc, y_meduc, test_size=0.2, random_state=42)\n",
    "\n",
    "# Create polynomial features including all possible interactions up to degree 3\n",
    "poly_features = PolynomialFeatures(degree=3, include_bias=False)\n",
    "x_train_poly = poly_features.fit_transform(x_train)\n",
    "x_test_poly = poly_features.transform(x_test)\n",
    "\n",
    "# Create a StandardScaler object and fit it to the training data\n",
    "scaler = StandardScaler()\n",
    "x_train_scaled = scaler.fit_transform(x_train_poly)\n",
    "x_test_scaled = scaler.transform(x_test_poly)\n",
    "\n",
    "# Create a LASSO Regression model with cross-validated alpha tuning\n",
    "model = LassoCV(cv=5, max_iter=100000)  # Adjust cv parameter for the number of cross-validation folds\n",
    "\n",
    "# Fit the model using the scaled training data\n",
    "model.fit(x_train_scaled, y_train)"
   ]
  },
  {
   "cell_type": "code",
   "execution_count": 17,
   "id": "c437c18a",
   "metadata": {},
   "outputs": [],
   "source": [
    "import pandas as pd\n",
    "from sklearn.model_selection import train_test_split\n",
    "from sklearn.linear_model import LassoCV\n",
    "from sklearn.preprocessing import StandardScaler\n",
    "\n",
    "# Filter the rows with missing meduc values\n",
    "missing_rows = df[df['meduc'].isnull()]\n",
    "\n",
    "# Extract the features for the missing rows\n",
    "x_missing = missing_rows[[\"educ\", \"IQ\", \"age\", \"married\", \"female\", \"black\", \"south\", \"urban\", \"sibs\"]]\n",
    "\n",
    "# Create polynomial features with interactions up to degree 3\n",
    "poly_features = PolynomialFeatures(degree=3, include_bias=False)\n",
    "x_missing_interactions = poly_features.fit_transform(x_missing)\n",
    "\n",
    "# Create a new DataFrame with the original and interaction features\n",
    "missing_rows_interactions_df = pd.DataFrame(x_missing_interactions,\n",
    "                                            columns=poly_features.get_feature_names_out(x_missing.columns))\n",
    "\n",
    "# Scale the features\n",
    "scaler = StandardScaler()\n",
    "x_missing_scaled = scaler.fit_transform(missing_rows_interactions_df)\n",
    "\n",
    "# Predict the birthorder for the missing rows using the trained LASSO model\n",
    "meduc_pred = model.predict(x_missing_scaled) \n",
    "\n",
    "# Fill the missing values with the predicted meduc values\n",
    "missing_rows['meduc'] = meduc_pred\n",
    "\n",
    "missing_rows['meduc'] = round(missing_rows['meduc'])\n"
   ]
  },
  {
   "cell_type": "code",
   "execution_count": 18,
   "id": "cccdcb4e",
   "metadata": {},
   "outputs": [],
   "source": [
    "# Set the index of both DataFrames to match on \"id\" and \"year\" columns\n",
    "df = df.set_index([\"id\", \"year\"])\n",
    "missing_rows = missing_rows.set_index([\"id\", \"year\"])\n",
    "\n",
    "# Replace the missing values in df with values from missing_rows\n",
    "df[\"meduc\"] = df[\"meduc\"].combine_first(missing_rows[\"meduc\"])\n",
    "\n",
    "# Reset the index if needed\n",
    "df = df.reset_index()"
   ]
  },
  {
   "cell_type": "code",
   "execution_count": 19,
   "id": "eb65b427",
   "metadata": {},
   "outputs": [
    {
     "name": "stdout",
     "output_type": "stream",
     "text": [
      "id           0\n",
      "year         0\n",
      "wage         0\n",
      "hours        0\n",
      "emp          0\n",
      "treat        0\n",
      "female       0\n",
      "IQ           0\n",
      "KWW          0\n",
      "educ         0\n",
      "exper        0\n",
      "tenure       0\n",
      "age          0\n",
      "married      0\n",
      "black        0\n",
      "south        0\n",
      "urban        0\n",
      "sibs         0\n",
      "brthord    188\n",
      "meduc        0\n",
      "feduc        0\n",
      "dtype: int64\n"
     ]
    }
   ],
   "source": [
    "print(df.isnull().sum())"
   ]
  },
  {
   "cell_type": "code",
   "execution_count": 20,
   "id": "1ca43ec1",
   "metadata": {},
   "outputs": [],
   "source": [
    "df.to_csv(\"meduc.csv\", index=False)"
   ]
  },
  {
   "cell_type": "markdown",
   "id": "07daf8ab",
   "metadata": {},
   "source": [
    "## Assumptions"
   ]
  },
  {
   "cell_type": "markdown",
   "id": "f02d9d0e",
   "metadata": {},
   "source": [
    "### Sparsity"
   ]
  },
  {
   "cell_type": "code",
   "execution_count": 21,
   "id": "b7039b7b",
   "metadata": {},
   "outputs": [
    {
     "name": "stdout",
     "output_type": "stream",
     "text": [
      "Total number of features:  219\n",
      "Number of features LASSO used (non-zero coefficient):  8\n",
      "Number of features LASSO did not use (zero coefficient):  211\n"
     ]
    }
   ],
   "source": [
    "import pandas as pd\n",
    "from sklearn.model_selection import train_test_split\n",
    "from sklearn.linear_model import Lasso\n",
    "from sklearn.preprocessing import PolynomialFeatures\n",
    "from sklearn.metrics import r2_score, mean_squared_error\n",
    "\n",
    "# Seperate independent and dependent variables\n",
    "x_meduc = new_df[[\"educ\", \"IQ\", \"age\", \"married\", \"female\", \"black\", \"south\", \"urban\", \"sibs\"]]\n",
    "y_meduc = new_df[['meduc']]\n",
    "\n",
    "# Split the data into training and testing sets\n",
    "x_train, x_test, y_train, y_test = train_test_split(x_meduc, y_meduc, test_size=0.2, random_state=42)\n",
    "\n",
    "# Create polynomial features including all possible interactions up to degree 3\n",
    "poly_features = PolynomialFeatures(degree=3, include_bias=False)\n",
    "x_train_poly = poly_features.fit_transform(x_train)\n",
    "x_test_poly = poly_features.transform(x_test)\n",
    "\n",
    "# Create a LASSO model\n",
    "model = LassoCV(cv=5, max_iter=100000)\n",
    "\n",
    "# Fit the model using the training data with polynomial features\n",
    "model.fit(x_train_poly, y_train)\n",
    "\n",
    "# Retrieve the coefficients\n",
    "coef = model.coef_\n",
    "\n",
    "# Count number of coefficients that are exactly zero\n",
    "n_zero_coef = np.sum(coef == 0)\n",
    "total_coef = len(coef)\n",
    "\n",
    "print(\"Total number of features: \", total_coef)\n",
    "print(\"Number of features LASSO used (non-zero coefficient): \", total_coef - n_zero_coef)\n",
    "print(\"Number of features LASSO did not use (zero coefficient): \", n_zero_coef)"
   ]
  },
  {
   "cell_type": "markdown",
   "id": "36724038",
   "metadata": {},
   "source": [
    "### Independence"
   ]
  },
  {
   "cell_type": "code",
   "execution_count": 22,
   "id": "2d3602ea",
   "metadata": {},
   "outputs": [
    {
     "name": "stdout",
     "output_type": "stream",
     "text": [
      "Durbin-Watson statistic: 1.9318963274858494\n"
     ]
    }
   ],
   "source": [
    "import numpy as np\n",
    "from statsmodels.stats.stattools import durbin_watson\n",
    "\n",
    "# Predict the outcomes for the training data\n",
    "y_train_pred = model.predict(x_train_poly)\n",
    "\n",
    "# Compute the residuals\n",
    "residuals = y_train.values.flatten() - y_train_pred\n",
    "\n",
    "# Perform the Durbin-Watson test\n",
    "dw_result = durbin_watson(residuals)\n",
    "\n",
    "print('Durbin-Watson statistic:', dw_result)"
   ]
  },
  {
   "cell_type": "markdown",
   "id": "dbd90bfb",
   "metadata": {},
   "source": [
    "## Sensitivity Analysis"
   ]
  },
  {
   "cell_type": "markdown",
   "id": "9658f63a",
   "metadata": {},
   "source": [
    "### Education"
   ]
  },
  {
   "cell_type": "code",
   "execution_count": 23,
   "id": "e1d44e36",
   "metadata": {},
   "outputs": [
    {
     "name": "stdout",
     "output_type": "stream",
     "text": [
      "    Change in educ    Change in Prediction\n",
      "0        -1.200000   [-0.1471600195808893]\n",
      "1        -1.151020   [-0.2883135077503134]\n",
      "2        -1.102041  [-0.42346046450827224]\n",
      "3        -1.053061   [-0.5526008898547676]\n",
      "4        -1.004082   [-0.6757347837897978]\n",
      "5        -0.955102   [-0.7928621463133627]\n",
      "6        -0.906122   [-0.9039829774254624]\n",
      "7        -0.857143   [-1.0090972771260969]\n",
      "8        -0.808163   [-1.1082050454152679]\n",
      "9        -0.759184   [-1.2013062822929736]\n",
      "10       -0.710204   [-1.2884009877592142]\n",
      "11       -0.661224   [-1.3694891618139895]\n",
      "12       -0.612245   [-1.4445708044573005]\n",
      "13       -0.563265   [-1.5136459156891462]\n",
      "14       -0.514286   [-1.5767144955095276]\n",
      "15       -0.465306   [-1.6337765439184437]\n",
      "16       -0.416327   [-1.6848320609158947]\n",
      "17       -0.367347   [-1.7298810465018812]\n",
      "18       -0.318367   [-1.7689235006764035]\n",
      "19       -0.269388   [-1.8019594234394596]\n",
      "20       -0.220408   [-1.8289888147910514]\n",
      "21       -0.171429   [-1.8500116747311788]\n",
      "22       -0.122449    [-1.865028003259841]\n",
      "23       -0.073469    [-1.874037800377038]\n",
      "24       -0.024490   [-1.8770410660827705]\n",
      "25        0.024490    [-1.874037800377038]\n",
      "26        0.073469    [-1.865028003259841]\n",
      "27        0.122449   [-1.8500116747311788]\n",
      "28        0.171429   [-1.8289888147910514]\n",
      "29        0.220408   [-1.8019594234394596]\n",
      "30        0.269388   [-1.7689235006764035]\n",
      "31        0.318367   [-1.7298810465018812]\n",
      "32        0.367347   [-1.6848320609158947]\n",
      "33        0.416327   [-1.6337765439184437]\n",
      "34        0.465306   [-1.5767144955095276]\n",
      "35        0.514286   [-1.5136459156891462]\n",
      "36        0.563265   [-1.4445708044573005]\n",
      "37        0.612245   [-1.3694891618139895]\n",
      "38        0.661224   [-1.2884009877592142]\n",
      "39        0.710204   [-1.2013062822929736]\n",
      "40        0.759184   [-1.1082050454152679]\n",
      "41        0.808163   [-1.0090972771260969]\n",
      "42        0.857143   [-0.9039829774254624]\n",
      "43        0.906122   [-0.7928621463133627]\n",
      "44        0.955102   [-0.6757347837897978]\n",
      "45        1.004082   [-0.5526008898547676]\n",
      "46        1.053061  [-0.42346046450827224]\n",
      "47        1.102041   [-0.2883135077503134]\n",
      "48        1.151020   [-0.1471600195808893]\n",
      "49        1.200000                   [0.0]\n"
     ]
    }
   ],
   "source": [
    "import numpy as np\n",
    "\n",
    "# Choose a random data point from the test set\n",
    "data_point = x_test.iloc[0, :]\n",
    "\n",
    "# Save the original prediction\n",
    "original_prediction = model.predict(poly_features.transform(data_point.values.reshape(1, -1)))\n",
    "\n",
    "# Save the original value of \"educ\"\n",
    "original_educ = data_point[\"educ\"]\n",
    "\n",
    "# Create an array to hold the changes in \"educ\" and the corresponding changes in the prediction\n",
    "changes = []\n",
    "\n",
    "# Change \"educ\" by -10% to +10%\n",
    "for change in np.linspace(-0.10 * original_educ, 0.10 * original_educ, num=50):\n",
    "    data_point[\"educ\"] += change\n",
    "    new_prediction = model.predict(poly_features.transform(data_point.values.reshape(1, -1)))\n",
    "    prediction_change = new_prediction - original_prediction\n",
    "    changes.append((change, prediction_change))\n",
    "\n",
    "# Convert the results to a DataFrame for easier viewing\n",
    "sensitivity_df = pd.DataFrame(changes, columns=[\"Change in educ\", \"Change in Prediction\"])\n",
    "\n",
    "print(sensitivity_df)"
   ]
  },
  {
   "cell_type": "markdown",
   "id": "22c117fb",
   "metadata": {},
   "source": [
    "### IQ"
   ]
  },
  {
   "cell_type": "code",
   "execution_count": 24,
   "id": "033aeb0b",
   "metadata": {},
   "outputs": [
    {
     "name": "stdout",
     "output_type": "stream",
     "text": [
      "    Change in IQ    Change in Prediction\n",
      "0      -7.400000  [-0.18649422867833287]\n",
      "1      -7.097959  [-0.35778870558759124]\n",
      "2      -6.795918   [-0.5115120715575951]\n",
      "3      -6.493878   [-0.6461002224838293]\n",
      "4      -6.191837   [-0.7607041772189902]\n",
      "5      -5.889796   [-0.8551020402249101]\n",
      "6      -5.587755   [-0.9296150589848544]\n",
      "7      -5.285714   [-0.9850277761761905]\n",
      "8      -4.983673   [-1.0225122766034485]\n",
      "9      -4.681633   [-1.0435565288917372]\n",
      "10     -4.379592   [-1.0498968219405507]\n",
      "11     -4.077551   [-1.0434542961379423]\n",
      "12     -3.775510   [-1.0262755693350778]\n",
      "13     -3.473469   [-1.0004774575811641]\n",
      "14     -3.171429   [-0.9681957906187559]\n",
      "15     -2.869388   [-0.9315383221394296]\n",
      "16     -2.567347   [-0.8925417347998383]\n",
      "17     -2.265306   [-0.8531327399981539]\n",
      "18     -1.963265    [-0.815093272410861]\n",
      "19     -1.661224   [-0.7800297792899435]\n",
      "20     -1.359184   [-0.7493466045204435]\n",
      "21     -1.057143   [-0.7242234674383976]\n",
      "22     -0.755102   [-0.7055970364091415]\n",
      "23     -0.453061   [-0.6941465971659948]\n",
      "24     -0.151020   [-0.6902838159093285]\n",
      "25      0.151020   [-0.6941465971659948]\n",
      "26      0.453061   [-0.7055970364091415]\n",
      "27      0.755102   [-0.7242234674383976]\n",
      "28      1.057143   [-0.7493466045204435]\n",
      "29      1.359184   [-0.7800297792899435]\n",
      "30      1.661224    [-0.815093272410861]\n",
      "31      1.963265   [-0.8531327399981539]\n",
      "32      2.265306   [-0.8925417347998383]\n",
      "33      2.567347   [-0.9315383221394296]\n",
      "34      2.869388   [-0.9681957906187559]\n",
      "35      3.171429   [-1.0004774575811641]\n",
      "36      3.473469   [-1.0262755693350778]\n",
      "37      3.775510   [-1.0434542961379423]\n",
      "38      4.077551   [-1.0498968219405507]\n",
      "39      4.379592   [-1.0435565288917372]\n",
      "40      4.681633   [-1.0225122766034485]\n",
      "41      4.983673   [-0.9850277761761905]\n",
      "42      5.285714   [-0.9296150589848544]\n",
      "43      5.587755   [-0.8551020402249101]\n",
      "44      5.889796   [-0.7607041772189902]\n",
      "45      6.191837   [-0.6461002224838293]\n",
      "46      6.493878   [-0.5115120715575951]\n",
      "47      6.795918  [-0.35778870558759124]\n",
      "48      7.097959  [-0.18649422867833287]\n",
      "49      7.400000                   [0.0]\n"
     ]
    }
   ],
   "source": [
    "import numpy as np\n",
    "\n",
    "# Choose a random data point from the test set\n",
    "data_point = x_test.iloc[0, :]\n",
    "\n",
    "# Save the original prediction\n",
    "original_prediction = model.predict(poly_features.transform(data_point.values.reshape(1, -1)))\n",
    "\n",
    "# Save the original value of \"exper\"\n",
    "original_IQ = data_point[\"IQ\"]\n",
    "\n",
    "# Create an array to hold the changes in \"IQ\" and the corresponding changes in the prediction\n",
    "changes = []\n",
    "\n",
    "# Change \"IQ\" by -10% to +10%\n",
    "for change in np.linspace(-0.10 * original_IQ, 0.10 * original_IQ, num=50):\n",
    "    data_point[\"IQ\"] += change\n",
    "    new_prediction = model.predict(poly_features.transform(data_point.values.reshape(1, -1)))\n",
    "    prediction_change = new_prediction - original_prediction\n",
    "    changes.append((change, prediction_change))\n",
    "\n",
    "# Convert the results to a DataFrame for easier viewing\n",
    "sensitivity_df = pd.DataFrame(changes, columns=[\"Change in IQ\", \"Change in Prediction\"])\n",
    "\n",
    "print(sensitivity_df)"
   ]
  },
  {
   "cell_type": "markdown",
   "id": "f7d0b09e",
   "metadata": {},
   "source": [
    "### Age"
   ]
  },
  {
   "cell_type": "code",
   "execution_count": 25,
   "id": "96728b49",
   "metadata": {},
   "outputs": [
    {
     "name": "stdout",
     "output_type": "stream",
     "text": [
      "    Change in Age      Change in Prediction\n",
      "0       -4.100000     [0.18703179697751793]\n",
      "1       -3.932653     [0.32428124814963155]\n",
      "2       -3.765306      [0.4211323357789585]\n",
      "3       -3.597959     [0.48569409971288025]\n",
      "4       -3.430612      [0.5249148492123865]\n",
      "5       -3.263265      [0.5446912986996217]\n",
      "6       -3.095918      [0.5499726274241628]\n",
      "7       -2.928571      [0.5448594630480077]\n",
      "8       -2.761224      [0.5326977891492923]\n",
      "9       -2.593878      [0.5161677766447088]\n",
      "10      -2.426531      [0.4973675391306607]\n",
      "11      -2.259184      [0.4778918121431204]\n",
      "12      -2.091837     [0.45890555633621943]\n",
      "13      -1.924490      [0.4412124845795482]\n",
      "14      -1.757143      [0.4253185129741759]\n",
      "15      -1.589796      [0.4114901357873837]\n",
      "16      -1.422449      [0.3998077243061342]\n",
      "17      -1.255102      [0.3902137496092326]\n",
      "18      -1.087755       [0.382555929258233]\n",
      "19      -0.920408      [0.3766252979070419]\n",
      "20      -0.753061     [0.37218920183025084]\n",
      "21      -0.585714      [0.3690192173701856]\n",
      "22      -0.418367      [0.3669139933026777]\n",
      "23      -0.251020     [0.36571701712154336]\n",
      "24      -0.083673     [0.36532930524179186]\n",
      "25       0.083673     [0.36571701712154336]\n",
      "26       0.251020      [0.3669139933026777]\n",
      "27       0.418367      [0.3690192173701856]\n",
      "28       0.585714     [0.37218920183025084]\n",
      "29       0.753061      [0.3766252979070419]\n",
      "30       0.920408       [0.382555929258233]\n",
      "31       1.087755      [0.3902137496092344]\n",
      "32       1.255102      [0.3998077243061342]\n",
      "33       1.422449      [0.4114901357873837]\n",
      "34       1.589796      [0.4253185129741759]\n",
      "35       1.757143      [0.4412124845795482]\n",
      "36       1.924490     [0.45890555633621943]\n",
      "37       2.091837      [0.4778918121431204]\n",
      "38       2.259184      [0.4973675391306607]\n",
      "39       2.426531      [0.5161677766447088]\n",
      "40       2.593878      [0.5326977891492923]\n",
      "41       2.761224      [0.5448594630480077]\n",
      "42       2.928571      [0.5499726274241628]\n",
      "43       3.095918      [0.5446912986996217]\n",
      "44       3.263265      [0.5249148492123865]\n",
      "45       3.430612     [0.48569409971288025]\n",
      "46       3.597959      [0.4211323357789585]\n",
      "47       3.765306     [0.32428124814963155]\n",
      "48       3.932653     [0.18703179697751793]\n",
      "49       4.100000  [1.7763568394002505e-15]\n"
     ]
    }
   ],
   "source": [
    "import numpy as np\n",
    "\n",
    "# Choose a random data point from the test set\n",
    "data_point = x_test.iloc[0, :]\n",
    "\n",
    "# Save the original prediction\n",
    "original_prediction = model.predict(poly_features.transform(data_point.values.reshape(1, -1)))\n",
    "\n",
    "# Save the original value of \"age\"\n",
    "original_age = data_point[\"age\"]\n",
    "\n",
    "# Create an array to hold the changes in \"age\" and the corresponding changes in the prediction\n",
    "changes = []\n",
    "\n",
    "# Change \"age\" by -10% to +10%\n",
    "for change in np.linspace(-0.10 * original_age, 0.10 * original_age, num=50):\n",
    "    data_point[\"age\"] += change\n",
    "    new_prediction = model.predict(poly_features.transform(data_point.values.reshape(1, -1)))\n",
    "    prediction_change = new_prediction - original_prediction\n",
    "    changes.append((change, prediction_change))\n",
    "\n",
    "# Convert the results to a DataFrame for easier viewing\n",
    "sensitivity_df = pd.DataFrame(changes, columns=[\"Change in Age\", \"Change in Prediction\"])\n",
    "\n",
    "print(sensitivity_df)"
   ]
  }
 ],
 "metadata": {
  "kernelspec": {
   "display_name": "Python 3 (ipykernel)",
   "language": "python",
   "name": "python3"
  },
  "language_info": {
   "codemirror_mode": {
    "name": "ipython",
    "version": 3
   },
   "file_extension": ".py",
   "mimetype": "text/x-python",
   "name": "python",
   "nbconvert_exporter": "python",
   "pygments_lexer": "ipython3",
   "version": "3.10.9"
  }
 },
 "nbformat": 4,
 "nbformat_minor": 5
}
